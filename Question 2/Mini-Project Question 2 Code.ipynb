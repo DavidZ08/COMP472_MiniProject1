{
 "cells": [
  {
   "cell_type": "code",
   "execution_count": 3,
   "metadata": {},
   "outputs": [],
   "source": [
    "import pandas as pd\n",
    "import numpy as np\n",
    "import matplotlib.pyplot as plt\n",
    "import sklearn.model_selection as sk\n",
    "from sklearn.naive_bayes import GaussianNB as gnb\n",
    "from sklearn.tree import DecisionTreeClassifier as dtc\n",
    "from sklearn.metrics import f1_score\n",
    "from sklearn.linear_model import Perceptron as pc"
   ]
  },
  {
   "cell_type": "markdown",
   "metadata": {},
   "source": [
    "# Data "
   ]
  },
  {
   "cell_type": "code",
   "execution_count": 4,
   "metadata": {},
   "outputs": [
    {
     "data": {
      "text/html": [
       "<div>\n",
       "<style scoped>\n",
       "    .dataframe tbody tr th:only-of-type {\n",
       "        vertical-align: middle;\n",
       "    }\n",
       "\n",
       "    .dataframe tbody tr th {\n",
       "        vertical-align: top;\n",
       "    }\n",
       "\n",
       "    .dataframe thead th {\n",
       "        text-align: right;\n",
       "    }\n",
       "</style>\n",
       "<table border=\"1\" class=\"dataframe\">\n",
       "  <thead>\n",
       "    <tr style=\"text-align: right;\">\n",
       "      <th></th>\n",
       "      <th>Age</th>\n",
       "      <th>Sex</th>\n",
       "      <th>BP</th>\n",
       "      <th>Cholesterol</th>\n",
       "      <th>Na_to_K</th>\n",
       "      <th>Drug</th>\n",
       "    </tr>\n",
       "  </thead>\n",
       "  <tbody>\n",
       "    <tr>\n",
       "      <th>0</th>\n",
       "      <td>23</td>\n",
       "      <td>F</td>\n",
       "      <td>HIGH</td>\n",
       "      <td>HIGH</td>\n",
       "      <td>25.355</td>\n",
       "      <td>drugY</td>\n",
       "    </tr>\n",
       "    <tr>\n",
       "      <th>1</th>\n",
       "      <td>47</td>\n",
       "      <td>M</td>\n",
       "      <td>LOW</td>\n",
       "      <td>HIGH</td>\n",
       "      <td>13.093</td>\n",
       "      <td>drugC</td>\n",
       "    </tr>\n",
       "    <tr>\n",
       "      <th>2</th>\n",
       "      <td>47</td>\n",
       "      <td>M</td>\n",
       "      <td>LOW</td>\n",
       "      <td>HIGH</td>\n",
       "      <td>10.114</td>\n",
       "      <td>drugC</td>\n",
       "    </tr>\n",
       "    <tr>\n",
       "      <th>3</th>\n",
       "      <td>28</td>\n",
       "      <td>F</td>\n",
       "      <td>NORMAL</td>\n",
       "      <td>HIGH</td>\n",
       "      <td>7.798</td>\n",
       "      <td>drugX</td>\n",
       "    </tr>\n",
       "    <tr>\n",
       "      <th>4</th>\n",
       "      <td>61</td>\n",
       "      <td>F</td>\n",
       "      <td>LOW</td>\n",
       "      <td>HIGH</td>\n",
       "      <td>18.043</td>\n",
       "      <td>drugY</td>\n",
       "    </tr>\n",
       "    <tr>\n",
       "      <th>...</th>\n",
       "      <td>...</td>\n",
       "      <td>...</td>\n",
       "      <td>...</td>\n",
       "      <td>...</td>\n",
       "      <td>...</td>\n",
       "      <td>...</td>\n",
       "    </tr>\n",
       "    <tr>\n",
       "      <th>195</th>\n",
       "      <td>56</td>\n",
       "      <td>F</td>\n",
       "      <td>LOW</td>\n",
       "      <td>HIGH</td>\n",
       "      <td>11.567</td>\n",
       "      <td>drugC</td>\n",
       "    </tr>\n",
       "    <tr>\n",
       "      <th>196</th>\n",
       "      <td>16</td>\n",
       "      <td>M</td>\n",
       "      <td>LOW</td>\n",
       "      <td>HIGH</td>\n",
       "      <td>12.006</td>\n",
       "      <td>drugC</td>\n",
       "    </tr>\n",
       "    <tr>\n",
       "      <th>197</th>\n",
       "      <td>52</td>\n",
       "      <td>M</td>\n",
       "      <td>NORMAL</td>\n",
       "      <td>HIGH</td>\n",
       "      <td>9.894</td>\n",
       "      <td>drugX</td>\n",
       "    </tr>\n",
       "    <tr>\n",
       "      <th>198</th>\n",
       "      <td>23</td>\n",
       "      <td>M</td>\n",
       "      <td>NORMAL</td>\n",
       "      <td>NORMAL</td>\n",
       "      <td>14.020</td>\n",
       "      <td>drugX</td>\n",
       "    </tr>\n",
       "    <tr>\n",
       "      <th>199</th>\n",
       "      <td>40</td>\n",
       "      <td>F</td>\n",
       "      <td>LOW</td>\n",
       "      <td>NORMAL</td>\n",
       "      <td>11.349</td>\n",
       "      <td>drugX</td>\n",
       "    </tr>\n",
       "  </tbody>\n",
       "</table>\n",
       "<p>200 rows × 6 columns</p>\n",
       "</div>"
      ],
      "text/plain": [
       "     Age Sex      BP Cholesterol  Na_to_K   Drug\n",
       "0     23   F    HIGH        HIGH   25.355  drugY\n",
       "1     47   M     LOW        HIGH   13.093  drugC\n",
       "2     47   M     LOW        HIGH   10.114  drugC\n",
       "3     28   F  NORMAL        HIGH    7.798  drugX\n",
       "4     61   F     LOW        HIGH   18.043  drugY\n",
       "..   ...  ..     ...         ...      ...    ...\n",
       "195   56   F     LOW        HIGH   11.567  drugC\n",
       "196   16   M     LOW        HIGH   12.006  drugC\n",
       "197   52   M  NORMAL        HIGH    9.894  drugX\n",
       "198   23   M  NORMAL      NORMAL   14.020  drugX\n",
       "199   40   F     LOW      NORMAL   11.349  drugX\n",
       "\n",
       "[200 rows x 6 columns]"
      ]
     },
     "execution_count": 4,
     "metadata": {},
     "output_type": "execute_result"
    }
   ],
   "source": [
    "drug_data = pd.read_csv('drug200.csv')\n",
    "\n",
    "drug_data"
   ]
  },
  {
   "cell_type": "code",
   "execution_count": 5,
   "metadata": {
    "scrolled": true
   },
   "outputs": [
    {
     "data": {
      "image/png": "[encoded data removed]",
      "text/plain": [
       "<Figure size 432x288 with 1 Axes>"
      ]
     },
     "metadata": {
      "needs_background": "light"
     },
     "output_type": "display_data"
    }
   ],
   "source": [
    "# Need to add axis labels and title\n",
    "\n",
    "x = plt.hist(drug_data.Drug)\n",
    "plt.savefig('Drug_Distribution_Data.pdf')"
   ]
  },
  {
   "cell_type": "code",
   "execution_count": 6,
   "metadata": {},
   "outputs": [],
   "source": [
    "N_to_K = drug_data.Na_to_K\n",
    "Age = drug_data.Age\n",
    "Sex_nf = pd.get_dummies(drug_data.Sex)\n",
    "BP_nf = pd.Categorical(drug_data.BP, ordered = True, categories = ['LOW', 'NORMAL', 'HIGH'])\n",
    "Chol_nf = pd.Categorical(drug_data.Cholesterol, ordered = True, categories = ['NORMAL', 'HIGH'])\n",
    "BP_nf = pd.DataFrame({'BP': BP_nf.codes})\n",
    "Chol_nf = pd.DataFrame({'Cholesterol' :Chol_nf.codes})"
   ]
  },
  {
   "cell_type": "code",
   "execution_count": 7,
   "metadata": {},
   "outputs": [],
   "source": [
    "drug_features = [Age, Sex_nf, BP_nf, Chol_nf, N_to_K]\n",
    "drug_features = pd.concat(drug_features, axis=1, join = 'inner')\n",
    "drug_target = drug_data.Drug"
   ]
  },
  {
   "cell_type": "code",
   "execution_count": 8,
   "metadata": {},
   "outputs": [],
   "source": [
    "x_train, x_test, y_train, y_test = sk.train_test_split(drug_features, drug_target)\n",
    "y_train = y_train.to_numpy()"
   ]
  },
  {
   "cell_type": "markdown",
   "metadata": {},
   "source": [
    "# Guassian Naive-Bayes"
   ]
  },
  {
   "cell_type": "code",
   "execution_count": 9,
   "metadata": {},
   "outputs": [],
   "source": [
    "cl_gnb = gnb().fit(x_train, y_train)"
   ]
  },
  {
   "cell_type": "code",
   "execution_count": 10,
   "metadata": {},
   "outputs": [
    {
     "data": {
      "text/plain": [
       "{'priors': None, 'var_smoothing': 1e-09}"
      ]
     },
     "execution_count": 10,
     "metadata": {},
     "output_type": "execute_result"
    }
   ],
   "source": [
    "cl_gnb.get_params()"
   ]
  },
  {
   "cell_type": "code",
   "execution_count": 24,
   "metadata": {},
   "outputs": [
    {
     "data": {
      "text/plain": [
       "array([[135, 'drugX', 'drugX'],\n",
       "       [136, 'drugB', 'drugB'],\n",
       "       [22, 'drugY', 'drugY'],\n",
       "       [124, 'drugB', 'drugB'],\n",
       "       [130, 'drugY', 'drugY'],\n",
       "       [10, 'drugC', 'drugC'],\n",
       "       [114, 'drugX', 'drugX'],\n",
       "       [39, 'drugX', 'drugX'],\n",
       "       [169, 'drugA', 'drugA'],\n",
       "       [175, 'drugB', 'drugY'],\n",
       "       [57, 'drugY', 'drugY'],\n",
       "       [62, 'drugY', 'drugY'],\n",
       "       [121, 'drugA', 'drugY'],\n",
       "       [115, 'drugA', 'drugY'],\n",
       "       [34, 'drugX', 'drugX'],\n",
       "       [42, 'drugY', 'drugY'],\n",
       "       [128, 'drugY', 'drugY'],\n",
       "       [186, 'drugB', 'drugB'],\n",
       "       [181, 'drugX', 'drugX'],\n",
       "       [140, 'drugA', 'drugA'],\n",
       "       [20, 'drugY', 'drugY'],\n",
       "       [95, 'drugX', 'drugX'],\n",
       "       [31, 'drugB', 'drugB'],\n",
       "       [102, 'drugC', 'drugC'],\n",
       "       [45, 'drugX', 'drugX'],\n",
       "       [58, 'drugX', 'drugX'],\n",
       "       [48, 'drugY', 'drugY'],\n",
       "       [172, 'drugY', 'drugY'],\n",
       "       [106, 'drugX', 'drugX'],\n",
       "       [131, 'drugY', 'drugY'],\n",
       "       [153, 'drugX', 'drugX'],\n",
       "       [178, 'drugY', 'drugY'],\n",
       "       [37, 'drugX', 'drugX'],\n",
       "       [56, 'drugB', 'drugB'],\n",
       "       [160, 'drugX', 'drugX'],\n",
       "       [105, 'drugX', 'drugX'],\n",
       "       [23, 'drugC', 'drugY'],\n",
       "       [143, 'drugB', 'drugY'],\n",
       "       [82, 'drugC', 'drugC'],\n",
       "       [104, 'drugY', 'drugY'],\n",
       "       [158, 'drugC', 'drugC'],\n",
       "       [177, 'drugY', 'drugY'],\n",
       "       [179, 'drugY', 'drugY'],\n",
       "       [68, 'drugY', 'drugY'],\n",
       "       [192, 'drugC', 'drugY'],\n",
       "       [194, 'drugY', 'drugY'],\n",
       "       [41, 'drugB', 'drugB'],\n",
       "       [6, 'drugY', 'drugY'],\n",
       "       [162, 'drugX', 'drugX'],\n",
       "       [79, 'drugX', 'drugX'],\n",
       "       [147, 'drugA', 'drugA'],\n",
       "       [12, 'drugC', 'drugY'],\n",
       "       [72, 'drugX', 'drugX'],\n",
       "       [159, 'drugX', 'drugX'],\n",
       "       [21, 'drugY', 'drugY'],\n",
       "       [149, 'drugC', 'drugC'],\n",
       "       [5, 'drugX', 'drugX'],\n",
       "       [112, 'drugX', 'drugX'],\n",
       "       [33, 'drugY', 'drugY'],\n",
       "       [133, 'drugY', 'drugY'],\n",
       "       [84, 'drugC', 'drugC'],\n",
       "       [123, 'drugY', 'drugY'],\n",
       "       [137, 'drugA', 'drugA'],\n",
       "       [86, 'drugX', 'drugX'],\n",
       "       [174, 'drugA', 'drugA'],\n",
       "       [76, 'drugA', 'drugA'],\n",
       "       [139, 'drugX', 'drugX'],\n",
       "       [47, 'drugC', 'drugC'],\n",
       "       [152, 'drugX', 'drugX'],\n",
       "       [171, 'drugX', 'drugX'],\n",
       "       [46, 'drugA', 'drugA'],\n",
       "       [14, 'drugX', 'drugX'],\n",
       "       [101, 'drugA', 'drugA'],\n",
       "       [195, 'drugC', 'drugC'],\n",
       "       [97, 'drugY', 'drugY'],\n",
       "       [52, 'drugY', 'drugY'],\n",
       "       [98, 'drugY', 'drugY'],\n",
       "       [122, 'drugY', 'drugY'],\n",
       "       [61, 'drugA', 'drugA'],\n",
       "       [117, 'drugX', 'drugX'],\n",
       "       [4, 'drugC', 'drugY'],\n",
       "       [7, 'drugC', 'drugC'],\n",
       "       [168, 'drugY', 'drugY'],\n",
       "       [83, 'drugA', 'drugA'],\n",
       "       [120, 'drugY', 'drugY'],\n",
       "       [99, 'drugA', 'drugY'],\n",
       "       [92, 'drugY', 'drugY'],\n",
       "       [173, 'drugY', 'drugY'],\n",
       "       [35, 'drugX', 'drugX'],\n",
       "       [51, 'drugX', 'drugX'],\n",
       "       [30, 'drugX', 'drugX'],\n",
       "       [70, 'drugB', 'drugB'],\n",
       "       [36, 'drugA', 'drugA'],\n",
       "       [107, 'drugC', 'drugY'],\n",
       "       [91, 'drugA', 'drugY'],\n",
       "       [116, 'drugX', 'drugX'],\n",
       "       [29, 'drugC', 'drugY'],\n",
       "       [16, 'drugX', 'drugX'],\n",
       "       [161, 'drugB', 'drugB'],\n",
       "       [8, 'drugY', 'drugY'],\n",
       "       [27, 'drugX', 'drugX'],\n",
       "       [64, 'drugB', 'drugB'],\n",
       "       [50, 'drugY', 'drugY'],\n",
       "       [191, 'drugA', 'drugA'],\n",
       "       [90, 'drugY', 'drugY'],\n",
       "       [11, 'drugA', 'drugY'],\n",
       "       [103, 'drugX', 'drugX'],\n",
       "       [156, 'drugA', 'drugA'],\n",
       "       [40, 'drugY', 'drugY'],\n",
       "       [109, 'drugY', 'drugY'],\n",
       "       [13, 'drugC', 'drugY'],\n",
       "       [166, 'drugY', 'drugY'],\n",
       "       [167, 'drugX', 'drugX'],\n",
       "       [78, 'drugA', 'drugA'],\n",
       "       [93, 'drugY', 'drugY'],\n",
       "       [55, 'drugC', 'drugC'],\n",
       "       [32, 'drugX', 'drugX'],\n",
       "       [196, 'drugC', 'drugC'],\n",
       "       [164, 'drugA', 'drugY'],\n",
       "       [110, 'drugA', 'drugA'],\n",
       "       [60, 'drugY', 'drugY'],\n",
       "       [119, 'drugY', 'drugY'],\n",
       "       [85, 'drugB', 'drugB'],\n",
       "       [148, 'drugX', 'drugX'],\n",
       "       [63, 'drugX', 'drugX'],\n",
       "       [44, 'drugX', 'drugX'],\n",
       "       [1, 'drugC', 'drugC'],\n",
       "       [0, 'drugY', 'drugY'],\n",
       "       [170, 'drugX', 'drugX'],\n",
       "       [190, 'drugY', 'drugY'],\n",
       "       [197, 'drugX', 'drugX'],\n",
       "       [193, 'drugC', 'drugC'],\n",
       "       [165, 'drugC', 'drugY'],\n",
       "       [89, 'drugY', 'drugY'],\n",
       "       [18, 'drugC', 'drugC'],\n",
       "       [74, 'drugA', 'drugY'],\n",
       "       [151, 'drugB', 'drugB'],\n",
       "       [25, 'drugA', 'drugY'],\n",
       "       [69, 'drugY', 'drugY'],\n",
       "       [188, 'drugY', 'drugY'],\n",
       "       [43, 'drugX', 'drugX'],\n",
       "       [67, 'drugX', 'drugX'],\n",
       "       [66, 'drugA', 'drugA'],\n",
       "       [184, 'drugY', 'drugY'],\n",
       "       [38, 'drugX', 'drugX'],\n",
       "       [163, 'drugY', 'drugY'],\n",
       "       [189, 'drugY', 'drugY'],\n",
       "       [9, 'drugY', 'drugY'],\n",
       "       [180, 'drugY', 'drugY'],\n",
       "       [17, 'drugA', 'drugA']], dtype=object)"
      ]
     },
     "execution_count": 24,
     "metadata": {},
     "output_type": "execute_result"
    }
   ],
   "source": [
    "predictions_cl_gnb = cl_gnb.predict(x_train).reshape(150, 1)\n",
    "index = x_train.index.values.reshape(150, 1)\n",
    "targets_cl_gnb = y_train.reshape(150, 1)\n",
    "\n",
    "#predicitons_cl_gnb = k.reshape(150, 1)\n",
    "predictions_targets = np.concatenate((index, predictions_cl_gnb, targets_cl_gnb), axis =1)      "
   ]
  },
  {
   "cell_type": "code",
   "execution_count": 131,
   "metadata": {},
   "outputs": [
    {
     "data": {
      "text/plain": [
       "{'drugC': 0.6363636363636364,\n",
       " 'drugB': 0.8461538461538461,\n",
       " 'drugY': 1.0,\n",
       " 'drugX': 1.0,\n",
       " 'drugA': 0.68}"
      ]
     },
     "execution_count": 131,
     "metadata": {},
     "output_type": "execute_result"
    }
   ],
   "source": [
    "# Accuracy\n",
    "\n",
    "def accuracy_model(pt):\n",
    "    error_count = 0\n",
    "    for i in range(len(pt)):\n",
    "        if pt[i][1] != pt[i][2]:\n",
    "            error_count=error_count+1\n",
    "    \n",
    "    return 1-error_count/len(pt)\n",
    "\n",
    "## Check To make sure its accurate\n",
    "\n",
    "def accuracy_class(pt):\n",
    "    count = 0\n",
    "    class_accuracy = {}\n",
    "    error_count = 0\n",
    "    classes = list(set(predictions_targets[:, 2]))\n",
    "    for i in range(len(classes)):\n",
    "        for j in range(len(pt)):\n",
    "            if pt[j, 1] == classes[i]:\n",
    "                  count = count +1\n",
    "            if pt[j, 1] == classes[i] and  pt[j, 1] != pt[j, 2]:\n",
    "                error_count = error_count+1\n",
    "        class_accuracy[classes[i]] = (count - error_count)/count\n",
    "        count = error_count = 0\n",
    "    return class_accuracy\n",
    "\n",
    "\n",
    " k = accuracy_class(predictions_targets)\n"
   ]
  },
  {
   "cell_type": "code",
   "execution_count": null,
   "metadata": {},
   "outputs": [],
   "source": []
  },
  {
   "cell_type": "code",
   "execution_count": null,
   "metadata": {},
   "outputs": [],
   "source": []
  },
  {
   "cell_type": "markdown",
   "metadata": {},
   "source": [
    "# Decision Tree"
   ]
  },
  {
   "cell_type": "code",
   "execution_count": 9,
   "metadata": {},
   "outputs": [],
   "source": [
    "cl_dtc = dtc().fit(x_train, y_train)"
   ]
  },
  {
   "cell_type": "code",
   "execution_count": 10,
   "metadata": {},
   "outputs": [],
   "source": [
    "k = dtc.predict(x_train)"
   ]
  },
  {
   "cell_type": "code",
   "execution_count": 11,
   "metadata": {},
   "outputs": [],
   "source": [
    "p = x_train.index.values\n",
    "j = y_train.reshape(150, 1)\n",
    "p = p.reshape(150, 1)\n",
    "k = k.reshape(150, 1)\n",
    "l = np.concatenate((p, k, j), axis =1)"
   ]
  },
  {
   "cell_type": "code",
   "execution_count": 12,
   "metadata": {},
   "outputs": [
    {
     "data": {
      "text/plain": [
       "1.0"
      ]
     },
     "execution_count": 12,
     "metadata": {},
     "output_type": "execute_result"
    }
   ],
   "source": [
    "dtc.score(x_train, y_train)"
   ]
  },
  {
   "cell_type": "code",
   "execution_count": 18,
   "metadata": {},
   "outputs": [],
   "source": [
    "from sklearn.tree import export_graphviz\n",
    "\n",
    "export_graphviz(\n",
    "    dtc,\n",
    "    out_file = \"testTree.pdf\",\n",
    "    feature_names = list(x_train.columns),\n",
    "    class_names = y_train\n",
    ")"
   ]
  },
  {
   "cell_type": "markdown",
   "metadata": {},
   "source": [
    "# Top- DT"
   ]
  },
  {
   "cell_type": "code",
   "execution_count": 21,
   "metadata": {},
   "outputs": [],
   "source": [
    "dtc2 = dtc()\n",
    "dtc2.get_params()\n",
    "#f1_score(y_true, y_pred, average='weighted')\n",
    "params = {'criterion': ['entropy', 'gini'], 'max_depth' : [1, 2, 3, 4, 5, 3, 7 ], 'min_samples_split': [2, 3, 4]}\n",
    "sc = sk.GridSearchCV(dtc2, params, scoring='f1_weighted')"
   ]
  },
  {
   "cell_type": "code",
   "execution_count": 22,
   "metadata": {},
   "outputs": [
    {
     "data": {
      "text/plain": [
       "GridSearchCV(estimator=DecisionTreeClassifier(),\n",
       "             param_grid={'criterion': ['entropy', 'gini'],\n",
       "                         'max_depth': [1, 2, 3, 4, 5, 3, 7],\n",
       "                         'min_samples_split': [2, 3, 4]},\n",
       "             scoring='f1_weighted')"
      ]
     },
     "execution_count": 22,
     "metadata": {},
     "output_type": "execute_result"
    }
   ],
   "source": [
    "sc.fit(x_train, y_train)"
   ]
  },
  {
   "cell_type": "code",
   "execution_count": 23,
   "metadata": {},
   "outputs": [
    {
     "data": {
      "text/plain": [
       "0.9925925925925926"
      ]
     },
     "execution_count": 23,
     "metadata": {},
     "output_type": "execute_result"
    }
   ],
   "source": [
    "sc.best_score_"
   ]
  },
  {
   "cell_type": "code",
   "execution_count": 24,
   "metadata": {},
   "outputs": [
    {
     "data": {
      "text/plain": [
       "{'criterion': 'entropy', 'max_depth': 4, 'min_samples_split': 2}"
      ]
     },
     "execution_count": 24,
     "metadata": {},
     "output_type": "execute_result"
    }
   ],
   "source": [
    "sc.best_params_"
   ]
  },
  {
   "cell_type": "code",
   "execution_count": 25,
   "metadata": {},
   "outputs": [
    {
     "data": {
      "text/plain": [
       "'drugA'"
      ]
     },
     "execution_count": 25,
     "metadata": {},
     "output_type": "execute_result"
    }
   ],
   "source": [
    "j=np.concatenate((sc.predict(x_train).reshape(150, 1), k.reshape(150, 1)), axis =1)\n",
    "j.shape\n",
    "\n",
    "j[1][1]"
   ]
  },
  {
   "cell_type": "code",
   "execution_count": 26,
   "metadata": {},
   "outputs": [],
   "source": [
    "for i in range(len(j)):\n",
    "    if j[i, 1] != j[i, 0]:\n",
    "        print(j[i])"
   ]
  },
  {
   "cell_type": "markdown",
   "metadata": {},
   "source": [
    "# Perceptron"
   ]
  },
  {
   "cell_type": "code",
   "execution_count": 54,
   "metadata": {},
   "outputs": [],
   "source": [
    "pcc = pc()\n",
    "\n",
    "z = x_train.to_numpy()"
   ]
  },
  {
   "cell_type": "code",
   "execution_count": 55,
   "metadata": {},
   "outputs": [
    {
     "data": {
      "text/plain": [
       "Perceptron()"
      ]
     },
     "execution_count": 55,
     "metadata": {},
     "output_type": "execute_result"
    }
   ],
   "source": [
    "pcc.fit(x_train, y_train)"
   ]
  },
  {
   "cell_type": "code",
   "execution_count": 56,
   "metadata": {},
   "outputs": [
    {
     "data": {
      "text/plain": [
       "0.5133333333333333"
      ]
     },
     "execution_count": 56,
     "metadata": {},
     "output_type": "execute_result"
    }
   ],
   "source": [
    "pcc.score(x_train, y_train)"
   ]
  },
  {
   "cell_type": "code",
   "execution_count": null,
   "metadata": {},
   "outputs": [],
   "source": []
  }
 ],
 "metadata": {
  "kernelspec": {
   "display_name": "Python 3",
   "language": "python",
   "name": "python3"
  },
  "language_info": {
   "codemirror_mode": {
    "name": "ipython",
    "version": 3
   },
   "file_extension": ".py",
   "mimetype": "text/x-python",
   "name": "python",
   "nbconvert_exporter": "python",
   "pygments_lexer": "ipython3",
   "version": "3.8.5"
  }
 },
 "nbformat": 4,
 "nbformat_minor": 4
}
