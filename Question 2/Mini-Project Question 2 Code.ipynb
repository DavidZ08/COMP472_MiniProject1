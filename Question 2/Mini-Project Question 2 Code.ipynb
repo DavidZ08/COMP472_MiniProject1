{
 "cells": [
  {
   "cell_type": "markdown",
   "metadata": {},
   "source": [
    "## Step 1: Run all once and proceed to step 2"
   ]
  },
  {
   "cell_type": "code",
   "execution_count": 1,
   "metadata": {},
   "outputs": [],
   "source": [
    "import pandas as pd\n",
    "import numpy as np\n",
    "import matplotlib.pyplot as plt\n",
    "import sklearn.model_selection as sk\n",
    "from sklearn.naive_bayes import GaussianNB as gnb\n",
    "from sklearn.tree import DecisionTreeClassifier as dtc\n",
    "from sklearn.linear_model import Perceptron as pc\n",
    "from sklearn.neural_network import MLPClassifier as mlp\n",
    "from sklearn.metrics import accuracy_score, recall_score, precision_score, f1_score, confusion_matrix, ConfusionMatrixDisplay"
   ]
  },
  {
   "cell_type": "markdown",
   "metadata": {},
   "source": [
    "# Data "
   ]
  },
  {
   "cell_type": "code",
   "execution_count": 2,
   "metadata": {},
   "outputs": [
    {
     "data": {
      "text/html": [
       "<div>\n",
       "<style scoped>\n",
       "    .dataframe tbody tr th:only-of-type {\n",
       "        vertical-align: middle;\n",
       "    }\n",
       "\n",
       "    .dataframe tbody tr th {\n",
       "        vertical-align: top;\n",
       "    }\n",
       "\n",
       "    .dataframe thead th {\n",
       "        text-align: right;\n",
       "    }\n",
       "</style>\n",
       "<table border=\"1\" class=\"dataframe\">\n",
       "  <thead>\n",
       "    <tr style=\"text-align: right;\">\n",
       "      <th></th>\n",
       "      <th>Age</th>\n",
       "      <th>Sex</th>\n",
       "      <th>BP</th>\n",
       "      <th>Cholesterol</th>\n",
       "      <th>Na_to_K</th>\n",
       "      <th>Drug</th>\n",
       "    </tr>\n",
       "  </thead>\n",
       "  <tbody>\n",
       "    <tr>\n",
       "      <th>0</th>\n",
       "      <td>23</td>\n",
       "      <td>F</td>\n",
       "      <td>HIGH</td>\n",
       "      <td>HIGH</td>\n",
       "      <td>25.355</td>\n",
       "      <td>drugY</td>\n",
       "    </tr>\n",
       "    <tr>\n",
       "      <th>1</th>\n",
       "      <td>47</td>\n",
       "      <td>M</td>\n",
       "      <td>LOW</td>\n",
       "      <td>HIGH</td>\n",
       "      <td>13.093</td>\n",
       "      <td>drugC</td>\n",
       "    </tr>\n",
       "    <tr>\n",
       "      <th>2</th>\n",
       "      <td>47</td>\n",
       "      <td>M</td>\n",
       "      <td>LOW</td>\n",
       "      <td>HIGH</td>\n",
       "      <td>10.114</td>\n",
       "      <td>drugC</td>\n",
       "    </tr>\n",
       "    <tr>\n",
       "      <th>3</th>\n",
       "      <td>28</td>\n",
       "      <td>F</td>\n",
       "      <td>NORMAL</td>\n",
       "      <td>HIGH</td>\n",
       "      <td>7.798</td>\n",
       "      <td>drugX</td>\n",
       "    </tr>\n",
       "    <tr>\n",
       "      <th>4</th>\n",
       "      <td>61</td>\n",
       "      <td>F</td>\n",
       "      <td>LOW</td>\n",
       "      <td>HIGH</td>\n",
       "      <td>18.043</td>\n",
       "      <td>drugY</td>\n",
       "    </tr>\n",
       "    <tr>\n",
       "      <th>...</th>\n",
       "      <td>...</td>\n",
       "      <td>...</td>\n",
       "      <td>...</td>\n",
       "      <td>...</td>\n",
       "      <td>...</td>\n",
       "      <td>...</td>\n",
       "    </tr>\n",
       "    <tr>\n",
       "      <th>195</th>\n",
       "      <td>56</td>\n",
       "      <td>F</td>\n",
       "      <td>LOW</td>\n",
       "      <td>HIGH</td>\n",
       "      <td>11.567</td>\n",
       "      <td>drugC</td>\n",
       "    </tr>\n",
       "    <tr>\n",
       "      <th>196</th>\n",
       "      <td>16</td>\n",
       "      <td>M</td>\n",
       "      <td>LOW</td>\n",
       "      <td>HIGH</td>\n",
       "      <td>12.006</td>\n",
       "      <td>drugC</td>\n",
       "    </tr>\n",
       "    <tr>\n",
       "      <th>197</th>\n",
       "      <td>52</td>\n",
       "      <td>M</td>\n",
       "      <td>NORMAL</td>\n",
       "      <td>HIGH</td>\n",
       "      <td>9.894</td>\n",
       "      <td>drugX</td>\n",
       "    </tr>\n",
       "    <tr>\n",
       "      <th>198</th>\n",
       "      <td>23</td>\n",
       "      <td>M</td>\n",
       "      <td>NORMAL</td>\n",
       "      <td>NORMAL</td>\n",
       "      <td>14.020</td>\n",
       "      <td>drugX</td>\n",
       "    </tr>\n",
       "    <tr>\n",
       "      <th>199</th>\n",
       "      <td>40</td>\n",
       "      <td>F</td>\n",
       "      <td>LOW</td>\n",
       "      <td>NORMAL</td>\n",
       "      <td>11.349</td>\n",
       "      <td>drugX</td>\n",
       "    </tr>\n",
       "  </tbody>\n",
       "</table>\n",
       "<p>200 rows × 6 columns</p>\n",
       "</div>"
      ],
      "text/plain": [
       "     Age Sex      BP Cholesterol  Na_to_K   Drug\n",
       "0     23   F    HIGH        HIGH   25.355  drugY\n",
       "1     47   M     LOW        HIGH   13.093  drugC\n",
       "2     47   M     LOW        HIGH   10.114  drugC\n",
       "3     28   F  NORMAL        HIGH    7.798  drugX\n",
       "4     61   F     LOW        HIGH   18.043  drugY\n",
       "..   ...  ..     ...         ...      ...    ...\n",
       "195   56   F     LOW        HIGH   11.567  drugC\n",
       "196   16   M     LOW        HIGH   12.006  drugC\n",
       "197   52   M  NORMAL        HIGH    9.894  drugX\n",
       "198   23   M  NORMAL      NORMAL   14.020  drugX\n",
       "199   40   F     LOW      NORMAL   11.349  drugX\n",
       "\n",
       "[200 rows x 6 columns]"
      ]
     },
     "execution_count": 2,
     "metadata": {},
     "output_type": "execute_result"
    }
   ],
   "source": [
    "drug_data = pd.read_csv('drug200.csv')\n",
    "\n",
    "#The drug data from the CSV file in the form of a data frame\n",
    "\n",
    "drug_data"
   ]
  },
  {
   "cell_type": "code",
   "execution_count": 35,
   "metadata": {
    "scrolled": true
   },
   "outputs": [
    {
     "data": {
      "image/png": "[encoded data removed]",
      "text/plain": [
       "<Figure size 432x288 with 1 Axes>"
      ]
     },
     "metadata": {
      "needs_background": "light"
     },
     "output_type": "display_data"
    }
   ],
   "source": [
    "# Plot of the distribution of the classes within the data\n",
    "x = plt.hist(drug_data.Drug)\n",
    "plt.savefig('drug-distribution.pdf')"
   ]
  },
  {
   "cell_type": "code",
   "execution_count": 4,
   "metadata": {},
   "outputs": [],
   "source": [
    "# Converting the features into numerical data\n",
    "N_to_K = drug_data.Na_to_K\n",
    "Age = drug_data.Age\n",
    "Sex_nf = pd.get_dummies(drug_data.Sex)\n",
    "BP_nf = pd.Categorical(drug_data.BP, ordered = True, categories = ['LOW', 'NORMAL', 'HIGH'])\n",
    "Chol_nf = pd.Categorical(drug_data.Cholesterol, ordered = True, categories = ['NORMAL', 'HIGH'])\n",
    "BP_nf = pd.DataFrame({'BP': BP_nf.codes})\n",
    "Chol_nf = pd.DataFrame({'Cholesterol' :Chol_nf.codes})\n",
    "\n",
    "# Concatenating the converted features and classes into seperate dataframes\n",
    "drug_features = [Age, Sex_nf, BP_nf, Chol_nf, N_to_K]\n",
    "drug_features = pd.concat(drug_features, axis=1, join = 'inner')\n",
    "drug_target = drug_data.Drug\n"
   ]
  },
  {
   "cell_type": "code",
   "execution_count": 5,
   "metadata": {},
   "outputs": [],
   "source": [
    "# Splitting the data with train_test_split with its default parameters\n",
    "# and sets converts the splitted data into numpy arrays\n",
    "x_train, x_test, y_train, y_test = sk.train_test_split(drug_features, drug_target)\n",
    "y_train = y_train.to_numpy()\n",
    "y_test = y_test.to_numpy()"
   ]
  },
  {
   "cell_type": "markdown",
   "metadata": {},
   "source": [
    "# Metrics"
   ]
  },
  {
   "cell_type": "code",
   "execution_count": 6,
   "metadata": {},
   "outputs": [],
   "source": [
    "# Functions to get metrics\n",
    "# Uses the metrics module provided from sklearn to gather all the required metrics from each model\n",
    "\n",
    "# returns a dictionary with the keys and values being each metric and result respectively for the model \n",
    "# drug_classes are the classes of the data\n",
    "# The index refers to the indeices of the data that has been split into their respective training or testing categories\n",
    "# pred is the predicted ouputs generated by the model when fed data\n",
    "# targets are the actual outputs coresponding to the predicted data\n",
    "def getMetrics(drug_classes, index, pred, targets):\n",
    "    class_recall = recall_score(targets, pred, average= None)\n",
    "    class_precision = precision_score(targets, pred, average= None, zero_division = 0)\n",
    "    class_f1 = f1_score(targets, pred, average= None)\n",
    "    model_accuracy = accuracy_score(targets, pred)\n",
    "    model_f1_macro = f1_score(targets, pred, average= 'macro')\n",
    "    model_f1_weighted = f1_score(targets, pred, average= 'weighted')\n",
    "\n",
    "    class_recall_labelled = {}\n",
    "    class_precision_labelled = {}\n",
    "    class_f1_labelled = {}\n",
    "    \n",
    "    for i in range(len(drug_classes)):\n",
    "        class_recall_labelled[drug_classes[i]] = class_recall[i]\n",
    "        class_precision_labelled[drug_classes[i]] = class_precision[i]\n",
    "        class_f1_labelled[drug_classes[i]] = class_f1[i]\n",
    "    \n",
    "    metrics = {'Accuracy': model_accuracy, 'F1 Macro': model_f1_macro, 'F1 Weighted' : model_f1_weighted, \\\n",
    "               'Class Recall': class_recall_labelled, 'Class Precision' : class_precision_labelled, 'Class F1': class_f1_labelled}\n",
    "    \n",
    "    return metrics\n",
    "    "
   ]
  },
  {
   "cell_type": "markdown",
   "metadata": {},
   "source": [
    "# Print Metrics "
   ]
  },
  {
   "cell_type": "code",
   "execution_count": 7,
   "metadata": {},
   "outputs": [],
   "source": [
    "# These functions are for printing the results to the drug-performance.txt file\n",
    "\n",
    "# Prints the name and hyperparameters of the model with the addition of the best \n",
    "# hyperparameters given the model is using GridSearchCV\n",
    "def print_model_file(model, file):\n",
    "    with open(file, 'a') as metrics_file:\n",
    "        metrics_file.write('\\n(A)\\n\\n')\n",
    "        if type(model).__name__ != 'GridSearchCV':\n",
    "            metrics_file.write(\"********************************************************************************\\n\" +\n",
    "            type(model).__name__ + '\\n'  +\n",
    "            'Parameters' + str(model.set_params()) +'\\n'\n",
    "            \"********************************************************************************\\n\")\n",
    "\n",
    "        else:\n",
    "            metrics_file.write(\"********************************************************************************\\n\" +\n",
    "            type(model.get_params()['estimator']).__name__ + ' ' + type(model).__name__ + '\\n'   +              \n",
    "            'Parameters: '+ str(model.set_params()) + '\\n'+'Best Parameters: '+ ' ' + str(model.best_params_) + '\\n'+\n",
    "            \"********************************************************************************\\n\")\n",
    "            \n",
    "# Prints the metrics of the model to the file       \n",
    "def print_metrics_file(metrics, file):\n",
    "    with open(file, 'a') as metrics_file:\n",
    "        metrics_file.write('\\n\\n(C)')\n",
    "        \n",
    "        for key, value in metrics.items():            \n",
    "            if type(metrics[key]) == dict:\n",
    "                metrics_file.write('\\n\\n' +key)\n",
    "                for key2, value2 in metrics[key].items():\n",
    "                    metrics_file.write('\\n   ' +str(key2) + ' ' + str(value2))\n",
    "        \n",
    "        metrics_file.write('\\n\\n(D)')\n",
    "        for key, value in metrics.items():\n",
    "                if type(metrics[key]) != dict :\n",
    "                    metrics_file.write('\\n\\n' +str(key) + ' ' + str(value))\n",
    "        metrics_file.write('\\n\\n')\n",
    "\n",
    "# Prints the confusion matrix of the model to the file\n",
    "def print_matrix_file(model, pred, targets, file):\n",
    "    drug_classes = model.classes_\n",
    "    cm = confusion_matrix(targets, pred, labels = drug_classes)\n",
    "    drug_classes = [x[-1] for x in drug_classes]\n",
    "    \n",
    "    with open(file, 'a') as metrics_file:\n",
    "        elements = '{:<3} {:<3} {:<3} {:<3} {:<3}'\n",
    "        metrics_file.write('\\n(B)\\n\\n')\n",
    "        for i in range(len(drug_classes)):\n",
    "            elements = elements.format(cm[i, 0], cm[i, 1], cm[i, 2], cm[i, 3], cm[i, 4])\n",
    "            metrics_file.write(drug_classes[i] + '  ' + elements+ '\\n')\n",
    "            elements ='{:<3} {:<3} {:<3} {:<3} {:<3}'\n",
    "        metrics_file.write('   '+'   '.join(drug_classes))\n",
    "\n"
   ]
  },
  {
   "cell_type": "markdown",
   "metadata": {},
   "source": [
    "# Guassian Naive-Bayes"
   ]
  },
  {
   "cell_type": "code",
   "execution_count": 8,
   "metadata": {},
   "outputs": [],
   "source": [
    "# Trains the Naive-Bayes Gaussian model with the training data and targets\n",
    "cl_gnb = gnb().fit(x_train, y_train)"
   ]
  },
  {
   "cell_type": "code",
   "execution_count": 9,
   "metadata": {},
   "outputs": [],
   "source": [
    "# Uses the model to predict the test data and assigns the predictions to the predictions_cl_gnb variable\n",
    "# Obtains the index and targets from the predicted data\n",
    "predictions_cl_gnb = cl_gnb.predict(x_test).reshape(50, 1)\n",
    "index = x_test.index.values.reshape(50, 1)\n",
    "targets_cl_gnb = y_test.reshape(50, 1)\n",
    "\n",
    "# Gets the classes found in the model\n",
    "drug_classes=cl_gnb.classes_\n",
    "\n",
    "# Gets the metrics for this model with the predicted data\n",
    "metrics_gnb = getMetrics(drug_classes, index, predictions_cl_gnb, targets_cl_gnb)"
   ]
  },
  {
   "cell_type": "code",
   "execution_count": 10,
   "metadata": {},
   "outputs": [
    {
     "name": "stdout",
     "output_type": "stream",
     "text": [
      "Couldn't find program: 'false'\n"
     ]
    }
   ],
   "source": [
    "# %%script false \n",
    "\n",
    "# Prints results to drug-performance.txt file\n",
    "print_model_file(cl_gnb, 'drug-performance.txt')\n",
    "print_matrix_file(cl_gnb, predictions_cl_gnb, targets_cl_gnb, 'drug-performance.txt')\n",
    "print_metrics_file(metrics_gnb, 'drug-performance.txt')"
   ]
  },
  {
   "cell_type": "markdown",
   "metadata": {},
   "source": [
    "# Decision Tree"
   ]
  },
  {
   "cell_type": "code",
   "execution_count": 11,
   "metadata": {},
   "outputs": [],
   "source": [
    "# Trains the Decision Tree model with the training data and targets\n",
    "cl_dtc = dtc().fit(x_train, y_train)"
   ]
  },
  {
   "cell_type": "code",
   "execution_count": 12,
   "metadata": {},
   "outputs": [],
   "source": [
    "# Uses the model to predict the test data and assigns the predictions to the predictions_cl_dtc variable\n",
    "# Obtains the index and targets from the predicted data\n",
    "predictions_cl_dtc = cl_dtc.predict(x_test).reshape(50, 1)\n",
    "index = x_test.index.values.reshape(50, 1)\n",
    "targets_cl_dtc = y_test.reshape(50, 1)\n",
    "\n",
    "# Gets the classes found in the model\n",
    "drug_classes=cl_dtc.classes_\n",
    "\n",
    "# Gets the metrics for this model with the predicted data\n",
    "metrics_dtc = getMetrics(drug_classes, index, predictions_cl_dtc, targets_cl_dtc)"
   ]
  },
  {
   "cell_type": "code",
   "execution_count": 13,
   "metadata": {},
   "outputs": [
    {
     "name": "stdout",
     "output_type": "stream",
     "text": [
      "Couldn't find program: 'false'\n"
     ]
    }
   ],
   "source": [
    "# %%script false \n",
    "\n",
    "# Prints results to drug-performance.txt file\n",
    "print_model_file(cl_dtc, 'drug-performance.txt')\n",
    "print_matrix_file(cl_dtc, predictions_cl_dtc, targets_cl_dtc, 'drug-performance.txt')\n",
    "print_metrics_file(metrics_dtc, 'drug-performance.txt')"
   ]
  },
  {
   "cell_type": "markdown",
   "metadata": {},
   "source": [
    "# Top- DT"
   ]
  },
  {
   "cell_type": "code",
   "execution_count": 14,
   "metadata": {},
   "outputs": [
    {
     "data": {
      "text/plain": [
       "GridSearchCV(estimator=DecisionTreeClassifier(),\n",
       "             param_grid={'criterion': ['entropy', 'gini'],\n",
       "                         'max_depth': [1, 2, 3, 4, 5, 3, 7],\n",
       "                         'min_samples_split': [2, 3, 4]})"
      ]
     },
     "execution_count": 14,
     "metadata": {},
     "output_type": "execute_result"
    }
   ],
   "source": [
    "# Trains the Decision Tree model with the training data and targets using GridSearchCV to train with all the provided parameters \n",
    "cl_topdtc = dtc()\n",
    "params = {'criterion': ['entropy', 'gini'], 'max_depth' : [1, 2, 3, 4, 5, 3, 7 ], 'min_samples_split': [2, 3, 4]}\n",
    "sc_dtc = sk.GridSearchCV(cl_topdtc, params)\n",
    "sc_dtc.fit(x_train, y_train)"
   ]
  },
  {
   "cell_type": "code",
   "execution_count": 15,
   "metadata": {
    "scrolled": true
   },
   "outputs": [],
   "source": [
    "# Uses the model to predict with the best fit parameters the test data and assigns the predictions to the predictions_cl_topdtc variable\n",
    "# Obtains the index and targets from the predicted data\n",
    "predictions_sc_topdtc = sc_dtc.predict(x_test).reshape(50, 1)\n",
    "index = x_test.index.values.reshape(50, 1)\n",
    "targets_sc_topdtc = y_test.reshape(50, 1)\n",
    "\n",
    "# Gets the classes found in the model\n",
    "drug_classes=sc_dtc.classes_\n",
    "\n",
    "# Gets the metrics for this model with the predicted data\n",
    "metrics_sc_dtc = getMetrics(drug_classes, index, predictions_sc_topdtc, targets_sc_topdtc)"
   ]
  },
  {
   "cell_type": "code",
   "execution_count": 16,
   "metadata": {},
   "outputs": [
    {
     "name": "stdout",
     "output_type": "stream",
     "text": [
      "Couldn't find program: 'false'\n"
     ]
    }
   ],
   "source": [
    "# %%script false \n",
    "\n",
    "# Prints results to drug-performance.txt file\n",
    "print_model_file(sc_dtc, 'drug-performance.txt')\n",
    "print_matrix_file(sc_dtc, predictions_sc_topdtc, targets_sc_topdtc, 'drug-performance.txt')\n",
    "print_metrics_file(metrics_sc_dtc, 'drug-performance.txt')"
   ]
  },
  {
   "cell_type": "markdown",
   "metadata": {},
   "source": [
    "# Perceptron"
   ]
  },
  {
   "cell_type": "code",
   "execution_count": 17,
   "metadata": {},
   "outputs": [
    {
     "data": {
      "text/plain": [
       "Perceptron()"
      ]
     },
     "execution_count": 17,
     "metadata": {},
     "output_type": "execute_result"
    }
   ],
   "source": [
    "#Converts the training and testing features data into numpy arrays in order to use it with the perceptron model \n",
    "pc_x_train = x_train.to_numpy()\n",
    "pc_x_test = x_test.to_numpy()\n",
    "\n",
    "# Trains the Perceptron model with the training data and targets\n",
    "cl_pc = pc()\n",
    "cl_pc.fit(pc_x_train, y_train)"
   ]
  },
  {
   "cell_type": "code",
   "execution_count": 18,
   "metadata": {},
   "outputs": [],
   "source": [
    "# Uses the model to predict the test data and assigns the predictions to the predictions_cl_pc variable\n",
    "# Obtains the index and targets from the predicted data\n",
    "predictions_cl_pc = cl_pc.predict(pc_x_test).reshape(50, 1)\n",
    "index = x_test.index.values.reshape(50,1)\n",
    "targets_cl_pc = y_test.reshape(50, 1)\n",
    "\n",
    "# Gets the classes found in the model\n",
    "drug_classes=cl_pc.classes_\n",
    "\n",
    "# Gets the metrics for this model with the predicted data\n",
    "metrics_pc = getMetrics(drug_classes, index, predictions_cl_pc, targets_cl_pc)"
   ]
  },
  {
   "cell_type": "code",
   "execution_count": 19,
   "metadata": {},
   "outputs": [
    {
     "name": "stdout",
     "output_type": "stream",
     "text": [
      "Couldn't find program: 'false'\n"
     ]
    }
   ],
   "source": [
    "# %%script false \n",
    "\n",
    "# Prints results to drug-performance.txt file\n",
    "print_model_file(cl_pc, 'test.txt')\n",
    "print_matrix_file(cl_dtc, predictions_cl_pc, targets_cl_pc, 'test.txt')\n",
    "print_metrics_file(metrics_pc, 'test.txt')"
   ]
  },
  {
   "cell_type": "markdown",
   "metadata": {},
   "source": [
    "# MLP"
   ]
  },
  {
   "cell_type": "code",
   "execution_count": 20,
   "metadata": {},
   "outputs": [
    {
     "data": {
      "text/plain": [
       "MLPClassifier(activation='logistic', hidden_layer_sizes=(1, 100), solver='sgd')"
      ]
     },
     "execution_count": 20,
     "metadata": {},
     "output_type": "execute_result"
    }
   ],
   "source": [
    "# Trains the MLP model with the training data and targets\n",
    "cl_mlp = mlp(hidden_layer_sizes = (1, 100), activation = 'logistic', solver = 'sgd')\n",
    "cl_mlp.fit(x_train, y_train)"
   ]
  },
  {
   "cell_type": "code",
   "execution_count": 21,
   "metadata": {},
   "outputs": [],
   "source": [
    "# Uses the model to predict the test data and assigns the predictions to the predictions_cl_mlp varriable\n",
    "# Obtains the index and targets from the predicted data\n",
    "predictions_cl_mlp = cl_mlp.predict(x_test).reshape(50, 1)\n",
    "index = x_test.index.values.reshape(50,1)\n",
    "targets_cl_mlp = y_test.reshape(50, 1)\n",
    "\n",
    "# Gets the classes found in the model\n",
    "drug_classes=cl_mlp.classes_\n",
    "\n",
    "# Gets the metrics for this model with the predicted data\n",
    "metrics_mlp = getMetrics(drug_classes, index, predictions_cl_mlp, targets_cl_mlp)"
   ]
  },
  {
   "cell_type": "code",
   "execution_count": 22,
   "metadata": {},
   "outputs": [
    {
     "name": "stdout",
     "output_type": "stream",
     "text": [
      "Couldn't find program: 'false'\n"
     ]
    }
   ],
   "source": [
    "# %%script false \n",
    "\n",
    "# Prints results to drug-performance.txt file\n",
    "print_model_file(cl_mlp, 'drug-performance.txt')\n",
    "print_matrix_file(cl_mlp, predictions_cl_mlp, targets_cl_mlp, 'drug-performance.txt')\n",
    "print_metrics_file(metrics_mlp, 'drug-performance.txt')"
   ]
  },
  {
   "cell_type": "markdown",
   "metadata": {},
   "source": [
    "# Top MLP"
   ]
  },
  {
   "cell_type": "code",
   "execution_count": 23,
   "metadata": {
    "scrolled": true
   },
   "outputs": [
    {
     "name": "stderr",
     "output_type": "stream",
     "text": [
      "C:\\Users\\bdelp\\anaconda3\\lib\\site-packages\\sklearn\\neural_network\\_multilayer_perceptron.py:582: ConvergenceWarning: Stochastic Optimizer: Maximum iterations (200) reached and the optimization hasn't converged yet.\n",
      "  warnings.warn(\n",
      "C:\\Users\\bdelp\\anaconda3\\lib\\site-packages\\sklearn\\neural_network\\_multilayer_perceptron.py:582: ConvergenceWarning: Stochastic Optimizer: Maximum iterations (200) reached and the optimization hasn't converged yet.\n",
      "  warnings.warn(\n",
      "C:\\Users\\bdelp\\anaconda3\\lib\\site-packages\\sklearn\\neural_network\\_multilayer_perceptron.py:582: ConvergenceWarning: Stochastic Optimizer: Maximum iterations (200) reached and the optimization hasn't converged yet.\n",
      "  warnings.warn(\n",
      "C:\\Users\\bdelp\\anaconda3\\lib\\site-packages\\sklearn\\neural_network\\_multilayer_perceptron.py:582: ConvergenceWarning: Stochastic Optimizer: Maximum iterations (200) reached and the optimization hasn't converged yet.\n",
      "  warnings.warn(\n",
      "C:\\Users\\bdelp\\anaconda3\\lib\\site-packages\\sklearn\\neural_network\\_multilayer_perceptron.py:582: ConvergenceWarning: Stochastic Optimizer: Maximum iterations (200) reached and the optimization hasn't converged yet.\n",
      "  warnings.warn(\n",
      "C:\\Users\\bdelp\\anaconda3\\lib\\site-packages\\sklearn\\neural_network\\_multilayer_perceptron.py:582: ConvergenceWarning: Stochastic Optimizer: Maximum iterations (200) reached and the optimization hasn't converged yet.\n",
      "  warnings.warn(\n",
      "C:\\Users\\bdelp\\anaconda3\\lib\\site-packages\\sklearn\\neural_network\\_multilayer_perceptron.py:582: ConvergenceWarning: Stochastic Optimizer: Maximum iterations (200) reached and the optimization hasn't converged yet.\n",
      "  warnings.warn(\n",
      "C:\\Users\\bdelp\\anaconda3\\lib\\site-packages\\sklearn\\neural_network\\_multilayer_perceptron.py:582: ConvergenceWarning: Stochastic Optimizer: Maximum iterations (200) reached and the optimization hasn't converged yet.\n",
      "  warnings.warn(\n",
      "C:\\Users\\bdelp\\anaconda3\\lib\\site-packages\\sklearn\\neural_network\\_multilayer_perceptron.py:582: ConvergenceWarning: Stochastic Optimizer: Maximum iterations (200) reached and the optimization hasn't converged yet.\n",
      "  warnings.warn(\n",
      "C:\\Users\\bdelp\\anaconda3\\lib\\site-packages\\sklearn\\neural_network\\_multilayer_perceptron.py:582: ConvergenceWarning: Stochastic Optimizer: Maximum iterations (200) reached and the optimization hasn't converged yet.\n",
      "  warnings.warn(\n",
      "C:\\Users\\bdelp\\anaconda3\\lib\\site-packages\\sklearn\\neural_network\\_multilayer_perceptron.py:582: ConvergenceWarning: Stochastic Optimizer: Maximum iterations (200) reached and the optimization hasn't converged yet.\n",
      "  warnings.warn(\n",
      "C:\\Users\\bdelp\\anaconda3\\lib\\site-packages\\sklearn\\neural_network\\_multilayer_perceptron.py:582: ConvergenceWarning: Stochastic Optimizer: Maximum iterations (200) reached and the optimization hasn't converged yet.\n",
      "  warnings.warn(\n",
      "C:\\Users\\bdelp\\anaconda3\\lib\\site-packages\\sklearn\\neural_network\\_multilayer_perceptron.py:582: ConvergenceWarning: Stochastic Optimizer: Maximum iterations (200) reached and the optimization hasn't converged yet.\n",
      "  warnings.warn(\n",
      "C:\\Users\\bdelp\\anaconda3\\lib\\site-packages\\sklearn\\neural_network\\_multilayer_perceptron.py:582: ConvergenceWarning: Stochastic Optimizer: Maximum iterations (200) reached and the optimization hasn't converged yet.\n",
      "  warnings.warn(\n",
      "C:\\Users\\bdelp\\anaconda3\\lib\\site-packages\\sklearn\\neural_network\\_multilayer_perceptron.py:582: ConvergenceWarning: Stochastic Optimizer: Maximum iterations (200) reached and the optimization hasn't converged yet.\n",
      "  warnings.warn(\n",
      "C:\\Users\\bdelp\\anaconda3\\lib\\site-packages\\sklearn\\neural_network\\_multilayer_perceptron.py:582: ConvergenceWarning: Stochastic Optimizer: Maximum iterations (200) reached and the optimization hasn't converged yet.\n",
      "  warnings.warn(\n",
      "C:\\Users\\bdelp\\anaconda3\\lib\\site-packages\\sklearn\\neural_network\\_multilayer_perceptron.py:582: ConvergenceWarning: Stochastic Optimizer: Maximum iterations (200) reached and the optimization hasn't converged yet.\n",
      "  warnings.warn(\n",
      "C:\\Users\\bdelp\\anaconda3\\lib\\site-packages\\sklearn\\neural_network\\_multilayer_perceptron.py:582: ConvergenceWarning: Stochastic Optimizer: Maximum iterations (200) reached and the optimization hasn't converged yet.\n",
      "  warnings.warn(\n",
      "C:\\Users\\bdelp\\anaconda3\\lib\\site-packages\\sklearn\\neural_network\\_multilayer_perceptron.py:582: ConvergenceWarning: Stochastic Optimizer: Maximum iterations (200) reached and the optimization hasn't converged yet.\n",
      "  warnings.warn(\n",
      "C:\\Users\\bdelp\\anaconda3\\lib\\site-packages\\sklearn\\neural_network\\_multilayer_perceptron.py:582: ConvergenceWarning: Stochastic Optimizer: Maximum iterations (200) reached and the optimization hasn't converged yet.\n",
      "  warnings.warn(\n",
      "C:\\Users\\bdelp\\anaconda3\\lib\\site-packages\\sklearn\\neural_network\\_multilayer_perceptron.py:582: ConvergenceWarning: Stochastic Optimizer: Maximum iterations (200) reached and the optimization hasn't converged yet.\n",
      "  warnings.warn(\n",
      "C:\\Users\\bdelp\\anaconda3\\lib\\site-packages\\sklearn\\neural_network\\_multilayer_perceptron.py:582: ConvergenceWarning: Stochastic Optimizer: Maximum iterations (200) reached and the optimization hasn't converged yet.\n",
      "  warnings.warn(\n",
      "C:\\Users\\bdelp\\anaconda3\\lib\\site-packages\\sklearn\\neural_network\\_multilayer_perceptron.py:582: ConvergenceWarning: Stochastic Optimizer: Maximum iterations (200) reached and the optimization hasn't converged yet.\n",
      "  warnings.warn(\n",
      "C:\\Users\\bdelp\\anaconda3\\lib\\site-packages\\sklearn\\neural_network\\_multilayer_perceptron.py:582: ConvergenceWarning: Stochastic Optimizer: Maximum iterations (200) reached and the optimization hasn't converged yet.\n",
      "  warnings.warn(\n",
      "C:\\Users\\bdelp\\anaconda3\\lib\\site-packages\\sklearn\\neural_network\\_multilayer_perceptron.py:582: ConvergenceWarning: Stochastic Optimizer: Maximum iterations (200) reached and the optimization hasn't converged yet.\n",
      "  warnings.warn(\n",
      "C:\\Users\\bdelp\\anaconda3\\lib\\site-packages\\sklearn\\neural_network\\_multilayer_perceptron.py:582: ConvergenceWarning: Stochastic Optimizer: Maximum iterations (200) reached and the optimization hasn't converged yet.\n",
      "  warnings.warn(\n",
      "C:\\Users\\bdelp\\anaconda3\\lib\\site-packages\\sklearn\\neural_network\\_multilayer_perceptron.py:582: ConvergenceWarning: Stochastic Optimizer: Maximum iterations (200) reached and the optimization hasn't converged yet.\n",
      "  warnings.warn(\n",
      "C:\\Users\\bdelp\\anaconda3\\lib\\site-packages\\sklearn\\neural_network\\_multilayer_perceptron.py:582: ConvergenceWarning: Stochastic Optimizer: Maximum iterations (200) reached and the optimization hasn't converged yet.\n",
      "  warnings.warn(\n",
      "C:\\Users\\bdelp\\anaconda3\\lib\\site-packages\\sklearn\\neural_network\\_multilayer_perceptron.py:582: ConvergenceWarning: Stochastic Optimizer: Maximum iterations (200) reached and the optimization hasn't converged yet.\n",
      "  warnings.warn(\n",
      "C:\\Users\\bdelp\\anaconda3\\lib\\site-packages\\sklearn\\neural_network\\_multilayer_perceptron.py:582: ConvergenceWarning: Stochastic Optimizer: Maximum iterations (200) reached and the optimization hasn't converged yet.\n",
      "  warnings.warn(\n",
      "C:\\Users\\bdelp\\anaconda3\\lib\\site-packages\\sklearn\\neural_network\\_multilayer_perceptron.py:582: ConvergenceWarning: Stochastic Optimizer: Maximum iterations (200) reached and the optimization hasn't converged yet.\n",
      "  warnings.warn(\n",
      "C:\\Users\\bdelp\\anaconda3\\lib\\site-packages\\sklearn\\neural_network\\_multilayer_perceptron.py:582: ConvergenceWarning: Stochastic Optimizer: Maximum iterations (200) reached and the optimization hasn't converged yet.\n",
      "  warnings.warn(\n",
      "C:\\Users\\bdelp\\anaconda3\\lib\\site-packages\\sklearn\\neural_network\\_multilayer_perceptron.py:582: ConvergenceWarning: Stochastic Optimizer: Maximum iterations (200) reached and the optimization hasn't converged yet.\n",
      "  warnings.warn(\n",
      "C:\\Users\\bdelp\\anaconda3\\lib\\site-packages\\sklearn\\neural_network\\_multilayer_perceptron.py:582: ConvergenceWarning: Stochastic Optimizer: Maximum iterations (200) reached and the optimization hasn't converged yet.\n",
      "  warnings.warn(\n",
      "C:\\Users\\bdelp\\anaconda3\\lib\\site-packages\\sklearn\\neural_network\\_multilayer_perceptron.py:582: ConvergenceWarning: Stochastic Optimizer: Maximum iterations (200) reached and the optimization hasn't converged yet.\n",
      "  warnings.warn(\n",
      "C:\\Users\\bdelp\\anaconda3\\lib\\site-packages\\sklearn\\neural_network\\_multilayer_perceptron.py:582: ConvergenceWarning: Stochastic Optimizer: Maximum iterations (200) reached and the optimization hasn't converged yet.\n",
      "  warnings.warn(\n"
     ]
    },
    {
     "name": "stderr",
     "output_type": "stream",
     "text": [
      "C:\\Users\\bdelp\\anaconda3\\lib\\site-packages\\sklearn\\neural_network\\_multilayer_perceptron.py:582: ConvergenceWarning: Stochastic Optimizer: Maximum iterations (200) reached and the optimization hasn't converged yet.\n",
      "  warnings.warn(\n",
      "C:\\Users\\bdelp\\anaconda3\\lib\\site-packages\\sklearn\\neural_network\\_multilayer_perceptron.py:582: ConvergenceWarning: Stochastic Optimizer: Maximum iterations (200) reached and the optimization hasn't converged yet.\n",
      "  warnings.warn(\n",
      "C:\\Users\\bdelp\\anaconda3\\lib\\site-packages\\sklearn\\neural_network\\_multilayer_perceptron.py:582: ConvergenceWarning: Stochastic Optimizer: Maximum iterations (200) reached and the optimization hasn't converged yet.\n",
      "  warnings.warn(\n",
      "C:\\Users\\bdelp\\anaconda3\\lib\\site-packages\\sklearn\\neural_network\\_multilayer_perceptron.py:582: ConvergenceWarning: Stochastic Optimizer: Maximum iterations (200) reached and the optimization hasn't converged yet.\n",
      "  warnings.warn(\n",
      "C:\\Users\\bdelp\\anaconda3\\lib\\site-packages\\sklearn\\neural_network\\_multilayer_perceptron.py:582: ConvergenceWarning: Stochastic Optimizer: Maximum iterations (200) reached and the optimization hasn't converged yet.\n",
      "  warnings.warn(\n",
      "C:\\Users\\bdelp\\anaconda3\\lib\\site-packages\\sklearn\\neural_network\\_multilayer_perceptron.py:582: ConvergenceWarning: Stochastic Optimizer: Maximum iterations (200) reached and the optimization hasn't converged yet.\n",
      "  warnings.warn(\n",
      "C:\\Users\\bdelp\\anaconda3\\lib\\site-packages\\sklearn\\neural_network\\_multilayer_perceptron.py:582: ConvergenceWarning: Stochastic Optimizer: Maximum iterations (200) reached and the optimization hasn't converged yet.\n",
      "  warnings.warn(\n",
      "C:\\Users\\bdelp\\anaconda3\\lib\\site-packages\\sklearn\\neural_network\\_multilayer_perceptron.py:582: ConvergenceWarning: Stochastic Optimizer: Maximum iterations (200) reached and the optimization hasn't converged yet.\n",
      "  warnings.warn(\n",
      "C:\\Users\\bdelp\\anaconda3\\lib\\site-packages\\sklearn\\neural_network\\_multilayer_perceptron.py:582: ConvergenceWarning: Stochastic Optimizer: Maximum iterations (200) reached and the optimization hasn't converged yet.\n",
      "  warnings.warn(\n",
      "C:\\Users\\bdelp\\anaconda3\\lib\\site-packages\\sklearn\\neural_network\\_multilayer_perceptron.py:582: ConvergenceWarning: Stochastic Optimizer: Maximum iterations (200) reached and the optimization hasn't converged yet.\n",
      "  warnings.warn(\n",
      "C:\\Users\\bdelp\\anaconda3\\lib\\site-packages\\sklearn\\neural_network\\_multilayer_perceptron.py:582: ConvergenceWarning: Stochastic Optimizer: Maximum iterations (200) reached and the optimization hasn't converged yet.\n",
      "  warnings.warn(\n",
      "C:\\Users\\bdelp\\anaconda3\\lib\\site-packages\\sklearn\\neural_network\\_multilayer_perceptron.py:582: ConvergenceWarning: Stochastic Optimizer: Maximum iterations (200) reached and the optimization hasn't converged yet.\n",
      "  warnings.warn(\n",
      "C:\\Users\\bdelp\\anaconda3\\lib\\site-packages\\sklearn\\neural_network\\_multilayer_perceptron.py:582: ConvergenceWarning: Stochastic Optimizer: Maximum iterations (200) reached and the optimization hasn't converged yet.\n",
      "  warnings.warn(\n",
      "C:\\Users\\bdelp\\anaconda3\\lib\\site-packages\\sklearn\\neural_network\\_multilayer_perceptron.py:582: ConvergenceWarning: Stochastic Optimizer: Maximum iterations (200) reached and the optimization hasn't converged yet.\n",
      "  warnings.warn(\n",
      "C:\\Users\\bdelp\\anaconda3\\lib\\site-packages\\sklearn\\neural_network\\_multilayer_perceptron.py:582: ConvergenceWarning: Stochastic Optimizer: Maximum iterations (200) reached and the optimization hasn't converged yet.\n",
      "  warnings.warn(\n",
      "C:\\Users\\bdelp\\anaconda3\\lib\\site-packages\\sklearn\\neural_network\\_multilayer_perceptron.py:582: ConvergenceWarning: Stochastic Optimizer: Maximum iterations (200) reached and the optimization hasn't converged yet.\n",
      "  warnings.warn(\n",
      "C:\\Users\\bdelp\\anaconda3\\lib\\site-packages\\sklearn\\neural_network\\_multilayer_perceptron.py:582: ConvergenceWarning: Stochastic Optimizer: Maximum iterations (200) reached and the optimization hasn't converged yet.\n",
      "  warnings.warn(\n",
      "C:\\Users\\bdelp\\anaconda3\\lib\\site-packages\\sklearn\\neural_network\\_multilayer_perceptron.py:582: ConvergenceWarning: Stochastic Optimizer: Maximum iterations (200) reached and the optimization hasn't converged yet.\n",
      "  warnings.warn(\n",
      "C:\\Users\\bdelp\\anaconda3\\lib\\site-packages\\sklearn\\neural_network\\_multilayer_perceptron.py:582: ConvergenceWarning: Stochastic Optimizer: Maximum iterations (200) reached and the optimization hasn't converged yet.\n",
      "  warnings.warn(\n",
      "C:\\Users\\bdelp\\anaconda3\\lib\\site-packages\\sklearn\\neural_network\\_multilayer_perceptron.py:582: ConvergenceWarning: Stochastic Optimizer: Maximum iterations (200) reached and the optimization hasn't converged yet.\n",
      "  warnings.warn(\n",
      "C:\\Users\\bdelp\\anaconda3\\lib\\site-packages\\sklearn\\neural_network\\_multilayer_perceptron.py:582: ConvergenceWarning: Stochastic Optimizer: Maximum iterations (200) reached and the optimization hasn't converged yet.\n",
      "  warnings.warn(\n",
      "C:\\Users\\bdelp\\anaconda3\\lib\\site-packages\\sklearn\\neural_network\\_multilayer_perceptron.py:582: ConvergenceWarning: Stochastic Optimizer: Maximum iterations (200) reached and the optimization hasn't converged yet.\n",
      "  warnings.warn(\n",
      "C:\\Users\\bdelp\\anaconda3\\lib\\site-packages\\sklearn\\neural_network\\_multilayer_perceptron.py:582: ConvergenceWarning: Stochastic Optimizer: Maximum iterations (200) reached and the optimization hasn't converged yet.\n",
      "  warnings.warn(\n",
      "C:\\Users\\bdelp\\anaconda3\\lib\\site-packages\\sklearn\\neural_network\\_multilayer_perceptron.py:582: ConvergenceWarning: Stochastic Optimizer: Maximum iterations (200) reached and the optimization hasn't converged yet.\n",
      "  warnings.warn(\n",
      "C:\\Users\\bdelp\\anaconda3\\lib\\site-packages\\sklearn\\neural_network\\_multilayer_perceptron.py:582: ConvergenceWarning: Stochastic Optimizer: Maximum iterations (200) reached and the optimization hasn't converged yet.\n",
      "  warnings.warn(\n",
      "C:\\Users\\bdelp\\anaconda3\\lib\\site-packages\\sklearn\\neural_network\\_multilayer_perceptron.py:582: ConvergenceWarning: Stochastic Optimizer: Maximum iterations (200) reached and the optimization hasn't converged yet.\n",
      "  warnings.warn(\n",
      "C:\\Users\\bdelp\\anaconda3\\lib\\site-packages\\sklearn\\neural_network\\_multilayer_perceptron.py:582: ConvergenceWarning: Stochastic Optimizer: Maximum iterations (200) reached and the optimization hasn't converged yet.\n",
      "  warnings.warn(\n",
      "C:\\Users\\bdelp\\anaconda3\\lib\\site-packages\\sklearn\\neural_network\\_multilayer_perceptron.py:582: ConvergenceWarning: Stochastic Optimizer: Maximum iterations (200) reached and the optimization hasn't converged yet.\n",
      "  warnings.warn(\n",
      "C:\\Users\\bdelp\\anaconda3\\lib\\site-packages\\sklearn\\neural_network\\_multilayer_perceptron.py:582: ConvergenceWarning: Stochastic Optimizer: Maximum iterations (200) reached and the optimization hasn't converged yet.\n",
      "  warnings.warn(\n",
      "C:\\Users\\bdelp\\anaconda3\\lib\\site-packages\\sklearn\\neural_network\\_multilayer_perceptron.py:582: ConvergenceWarning: Stochastic Optimizer: Maximum iterations (200) reached and the optimization hasn't converged yet.\n",
      "  warnings.warn(\n",
      "C:\\Users\\bdelp\\anaconda3\\lib\\site-packages\\sklearn\\neural_network\\_multilayer_perceptron.py:582: ConvergenceWarning: Stochastic Optimizer: Maximum iterations (200) reached and the optimization hasn't converged yet.\n",
      "  warnings.warn(\n",
      "C:\\Users\\bdelp\\anaconda3\\lib\\site-packages\\sklearn\\neural_network\\_multilayer_perceptron.py:582: ConvergenceWarning: Stochastic Optimizer: Maximum iterations (200) reached and the optimization hasn't converged yet.\n",
      "  warnings.warn(\n",
      "C:\\Users\\bdelp\\anaconda3\\lib\\site-packages\\sklearn\\neural_network\\_multilayer_perceptron.py:582: ConvergenceWarning: Stochastic Optimizer: Maximum iterations (200) reached and the optimization hasn't converged yet.\n",
      "  warnings.warn(\n",
      "C:\\Users\\bdelp\\anaconda3\\lib\\site-packages\\sklearn\\neural_network\\_multilayer_perceptron.py:582: ConvergenceWarning: Stochastic Optimizer: Maximum iterations (200) reached and the optimization hasn't converged yet.\n",
      "  warnings.warn(\n",
      "C:\\Users\\bdelp\\anaconda3\\lib\\site-packages\\sklearn\\neural_network\\_multilayer_perceptron.py:582: ConvergenceWarning: Stochastic Optimizer: Maximum iterations (200) reached and the optimization hasn't converged yet.\n",
      "  warnings.warn(\n"
     ]
    },
    {
     "data": {
      "text/plain": [
       "GridSearchCV(estimator=MLPClassifier(),\n",
       "             param_grid={'activation': ['logistic', 'tanh', 'relu', 'identity'],\n",
       "                         'hidden_layer_sizes': [(20, 50), (10, 10, 10)],\n",
       "                         'solver': ['adam', 'sgd']})"
      ]
     },
     "execution_count": 23,
     "metadata": {},
     "output_type": "execute_result"
    }
   ],
   "source": [
    "# Trains the MLP model with the training data and targets using GridSearchCV to train with all the provided parameters \n",
    "cl_topmlp = mlp()\n",
    "params = {'activation': ['logistic', 'tanh', 'relu', 'identity'], 'hidden_layer_sizes': [(20, 50), (10, 10, 10)], 'solver' : ['adam', 'sgd']}\n",
    "sc_mlp = sk.GridSearchCV(cl_topmlp, params)\n",
    "sc_mlp.fit(x_train, y_train)\n",
    "\n",
    "\n",
    "##IGNORE CONVERGENCE WARNING - If i set max iterations to value where this warning will not appear it takes too long to compute"
   ]
  },
  {
   "cell_type": "code",
   "execution_count": 24,
   "metadata": {},
   "outputs": [
    {
     "data": {
      "text/plain": [
       "GridSearchCV(estimator=MLPClassifier(),\n",
       "             param_grid={'activation': ['logistic', 'tanh', 'relu', 'identity'],\n",
       "                         'hidden_layer_sizes': [(20, 50), (10, 10, 10)],\n",
       "                         'solver': ['adam', 'sgd']})"
      ]
     },
     "execution_count": 24,
     "metadata": {},
     "output_type": "execute_result"
    }
   ],
   "source": [
    "# Uses the model to predict the test data and assigns the predictions to the predictions_cl_topmlp variable\n",
    "# Obtains the index and targets from the predicted data\n",
    "predictions_sc_mlp = sc_mlp.predict(x_test).reshape(50, 1)\n",
    "index = x_test.index.values.reshape(50, 1)\n",
    "targets_sc_mlp = y_test.reshape(50, 1)\n",
    "\n",
    "# Gets the classes found in the model\n",
    "drug_classes=sc_mlp.classes_\n",
    "\n",
    "# Gets the metrics for this model with the predicted data\n",
    "metrics_sc_mlp = getMetrics(drug_classes, index, predictions_sc_mlp, targets_sc_mlp)\n",
    "\n",
    "sc_mlp.set_params()"
   ]
  },
  {
   "cell_type": "code",
   "execution_count": 25,
   "metadata": {},
   "outputs": [
    {
     "name": "stdout",
     "output_type": "stream",
     "text": [
      "Couldn't find program: 'false'\n"
     ]
    }
   ],
   "source": [
    "# %%script false \n",
    "\n",
    "# Prints results to drug-performance.txt file\n",
    "print_model_file(sc_mlp, 'drug-performance.txt')\n",
    "print_matrix_file(sc_mlp, predictions_sc_mlp, targets_sc_mlp, 'drug-performance.txt')\n",
    "print_metrics_file(metrics_sc_mlp, 'drug-performance.txt')"
   ]
  },
  {
   "cell_type": "markdown",
   "metadata": {},
   "source": [
    "## Step 2:\n",
    "### - Uncomment the '%%script false' found in the cells dedicated to printing to drugs-performance file\n",
    "### - Comment the '%% script false' found in the next cell (Don't do this for the cells after this one)\n",
    "### - Restart and run all 10 times\n",
    " "
   ]
  },
  {
   "cell_type": "markdown",
   "metadata": {},
   "source": [
    "# Average and Standard Deviation"
   ]
  },
  {
   "cell_type": "code",
   "execution_count": 26,
   "metadata": {},
   "outputs": [],
   "source": [
    "%%script false \n",
    "\n",
    "# Prints the metrics of each model to a file\n",
    "\n",
    "with open('drug-performance.txt', 'a') as metrics:\n",
    "    metrics.write('---Metrics---\\n\\n')\n",
    "    metrics.write('Gaussian\\n')\n",
    "    metrics.write('Accuracy  ' + str(metrics_gnb['Accuracy']) + '\\n')\n",
    "    metrics.write('F1-Macro  ' + str(metrics_gnb['F1 Macro'])+ '\\n')\n",
    "    metrics.write('F1-Weighted  ' + str(metrics_gnb['F1 Weighted'])+ '\\n\\n')\n",
    "    \n",
    "    metrics.write('Decision Tree\\n')\n",
    "    metrics.write('Accuracy  ' + str(metrics_dtc['Accuracy'])+ '\\n')\n",
    "    metrics.write('F1-Macro  ' + str(metrics_dtc['F1 Macro'])+ '\\n')\n",
    "    metrics.write('F1-Weighted  ' + str(metrics_dtc['F1 Weighted'])+ '\\n\\n')\n",
    "    \n",
    "    metrics.write('Top-Decision Tree\\n')\n",
    "    metrics.write('Accuracy  ' + str(metrics_sc_dtc['Accuracy'])+ '\\n')\n",
    "    metrics.write('F1-Macro  ' + str(metrics_sc_dtc['F1 Macro'])+ '\\n')\n",
    "    metrics.write('F1-Weighted  ' + str(metrics_sc_dtc['F1 Weighted'])+ '\\n\\n')\n",
    "\n",
    "    metrics.write('Perceptron\\n')\n",
    "    metrics.write('Accuracy  ' + str(metrics_pc['Accuracy'])+ '\\n')\n",
    "    metrics.write('F1-Macro  ' + str(metrics_pc['F1 Macro'])+ '\\n')\n",
    "    metrics.write('F1-Weighted  ' + str(metrics_pc['F1 Weighted'])+ '\\n\\n')\n",
    "\n",
    "    metrics.write('MLP\\n')\n",
    "    metrics.write('Accuracy  ' + str(metrics_mlp['Accuracy'])+ '\\n')\n",
    "    metrics.write('F1-Macro  ' + str(metrics_mlp['F1 Macro'])+ '\\n')\n",
    "    metrics.write('F1-Weighted  ' + str(metrics_mlp['F1 Weighted'])+ '\\n\\n')\n",
    "\n",
    "    metrics.write('Top MLP\\n')\n",
    "    metrics.write('Accuracy  ' + str(metrics_sc_mlp['Accuracy'])+ '\\n')\n",
    "    metrics.write('F1-Macro  ' + str(metrics_sc_mlp['F1 Macro'])+ '\\n')\n",
    "    metrics.write('F1-Weighted  ' + str(metrics_sc_mlp['F1 Weighted'])+ '\\n\\n')"
   ]
  },
  {
   "cell_type": "markdown",
   "metadata": {},
   "source": [
    "## Step 3:\n",
    "### - Comment the '%% script false' found in the remaining cells and run each cell individually in order once\n",
    "### - All results will be found in the drug-performance.txt file"
   ]
  },
  {
   "cell_type": "code",
   "execution_count": 31,
   "metadata": {},
   "outputs": [],
   "source": [
    "%%script false \n",
    "\n",
    "# Reads the results obtained from the previous cell and stores it in an ndarray\n",
    "\n",
    "d= {}\n",
    "cl = [[[],[],[]],[[],[],[]],[[],[],[]],[[],[],[],],[[],[],[]],[[],[],[]]]\n",
    "\n",
    "with open('drug-performance.txt', 'r') as metrics:\n",
    "    l = metrics.readline()\n",
    "    read = False\n",
    "    skip = False\n",
    "    count = 3\n",
    "    cl_count = 0\n",
    "    while l:\n",
    "        if '---Metrics---' in l: \n",
    "            cl_count = 0\n",
    "            read = True\n",
    "            skip = True\n",
    "            \n",
    "        if read == True and skip == True:\n",
    "            for i in range(2) : l = metrics.readline()\n",
    "            skip = False\n",
    "            \n",
    "        elif read == True and skip != True and count > 0:\n",
    "            (key, value) = l.split()\n",
    "            d[key] = value\n",
    "            count = count -1\n",
    "            \n",
    "        if count == 0:\n",
    "            cl[cl_count][0].append(d['Accuracy'])\n",
    "            cl[cl_count][1].append(d['F1-Macro'])\n",
    "            cl[cl_count][2].append(d['F1-Weighted'])\n",
    "            count = 3\n",
    "            skip = True\n",
    "            cl_count = cl_count+1\n",
    "            \n",
    "        else:\n",
    "            l = metrics.readline()\n",
    "        \n",
    "        if cl_count == 6:\n",
    "            cl_count = 0\n",
    "            l = metrics.readline()\n",
    "            l = metrics.readline()"
   ]
  },
  {
   "cell_type": "code",
   "execution_count": 32,
   "metadata": {},
   "outputs": [
    {
     "data": {
      "text/plain": [
       "(6, 3)"
      ]
     },
     "execution_count": 32,
     "metadata": {},
     "output_type": "execute_result"
    }
   ],
   "source": [
    "%%script false \n",
    "\n",
    "# Uses result from previous cell to calculate the average of each metric of each model\n",
    "\n",
    "count = 0\n",
    "average =  [[[],[],[]],[[],[],[]],[[],[],[]],[[],[],[],],[[],[],[]],[[],[],[]]]\n",
    "cl = np.array(cl)\n",
    "cl = cl.astype(np.float)\n",
    "\n",
    "for i in range(len(cl)):\n",
    "    for j in range(len(cl[i])):\n",
    "        count = sum(cl[i][j])\n",
    "        average[i][j] = count/10\n",
    "        \n",
    "average = np.array(average)\n"
   ]
  },
  {
   "cell_type": "code",
   "execution_count": 33,
   "metadata": {},
   "outputs": [],
   "source": [
    "%%script false\n",
    "\n",
    "# Prints the averages of each metric of each model to the drug-discussion.txt file\n",
    "\n",
    "with open('drug-performance.txt', 'a') as metrics:\n",
    "    metrics.write('\\n\\nAVERAGES\\n\\n')\n",
    "    metrics.write('\\nGuassian\\n')\n",
    "    metrics.write('Accuracy ' + str(average[0][0]) + '\\n')\n",
    "    metrics.write('F1 Macro ' + str(average[0][1]) + '\\n')\n",
    "    metrics.write('F1 Weighted ' + str(average[0][2]) + '\\n')\n",
    "    metrics.write('\\nDecision Tree\\n')\n",
    "    metrics.write('Accuracy ' + str(average[1][0]) + '\\n')\n",
    "    metrics.write('F1 Macro ' + str(average[1][1]) + '\\n')\n",
    "    metrics.write('F1 Weighted ' + str(average[1][2]) + '\\n')\n",
    "    metrics.write('\\nTop Decision Tree\\n')\n",
    "    metrics.write('Accuracy ' + str(average[2][0]) + '\\n')\n",
    "    metrics.write('F1 Macro ' + str(average[2][1]) + '\\n')\n",
    "    metrics.write('Weighted ' + str(average[2][2]) + '\\n')\n",
    "    metrics.write('\\nPerceptron\\n')\n",
    "    metrics.write('Accuracy ' + str(average[3][0]) + '\\n')\n",
    "    metrics.write('F1 Macro ' + str(average[3][1]) + '\\n')\n",
    "    metrics.write('F1 Weighted ' + str(average[3][2]) + '\\n')\n",
    "    metrics.write('\\nMLP\\n')\n",
    "    metrics.write('Accuracy ' + str(average[4][0]) + '\\n')\n",
    "    metrics.write('F1 Macro ' + str(average[4][1]) + '\\n')\n",
    "    metrics.write('F1 Weighted ' + str(average[4][2]) + '\\n')\n",
    "    metrics.write('\\nTop MLP\\n')\n",
    "    metrics.write('Accuracy ' + str(average[5][0]) + '\\n')\n",
    "    metrics.write('F1 Macro ' + str(average[5][1]) + '\\n')\n",
    "    metrics.write('F1 Weighted ' + str(average[5][2]) + '\\n\\n')"
   ]
  },
  {
   "cell_type": "code",
   "execution_count": 34,
   "metadata": {},
   "outputs": [],
   "source": [
    "%%script false\n",
    "\n",
    "# Uses result from previous cell to calculate the standard of each metric of each model and\n",
    "# print the results to the drug-discussion.txt file\n",
    "\n",
    "\n",
    "with open('drug-performance.txt', 'a') as metrics:\n",
    "    metrics.write('\\n\\nSTANDARD DEVIATIONS\\n\\n')\n",
    "    metrics.write('\\nGuassian\\n')\n",
    "    metrics.write('Accuracy ' +str(sum(((cl[0][0] - average[0][0])**2)/10)) + '\\n')\n",
    "    metrics.write('F1 Macro ' +str(sum(((cl[0][1] - average[0][1])**2)/10)) + '\\n')\n",
    "    metrics.write('F1 Weighted ' +str(sum(((cl[0][2] - average[0][2])**2)/10)) + '\\n')\n",
    "    metrics.write('\\nDecision Tree\\n')\n",
    "    metrics.write('Accuracy ' +str(sum(((cl[1][0] - average[1][0])**2)/10)) + '\\n')\n",
    "    metrics.write('F1 Macro ' +str(sum(((cl[1][1] - average[1][1])**2)/10)) + '\\n')\n",
    "    metrics.write('F1 Weighted ' +str(sum(((cl[1][2] - average[1][2])**2)/10)) + '\\n')\n",
    "    metrics.write('\\nTop Decision Tree\\n')    \n",
    "    metrics.write('Accuracy ' +str(sum(((cl[2][0] - average[2][0])**2)/10)) + '\\n')\n",
    "    metrics.write('F1 Macro ' +str(sum(((cl[2][1] - average[2][1])**2)/10)) + '\\n')\n",
    "    metrics.write('F1 Weighted ' +str(sum(((cl[2][2] - average[2][2])**2)/10)) + '\\n')\n",
    "    metrics.write('\\nPerceptron\\n')    \n",
    "    metrics.write('Accuracy ' +str(sum(((cl[3][0] - average[3][0])**2)/10)) + '\\n')\n",
    "    metrics.write('F1 Macro ' +str(sum(((cl[3][1] - average[3][1])**2)/10)) + '\\n')\n",
    "    metrics.write('F1 Weighted ' +str(sum(((cl[3][2] - average[3][2])**2)/10)) + '\\n')\n",
    "    metrics.write('\\nMLP\\n')    \n",
    "    metrics.write('Accuracy ' +str(sum(((cl[4][0] - average[4][0])**2)/10)) + '\\n')\n",
    "    metrics.write('F1 Macro ' +str(sum(((cl[4][1] - average[4][1])**2)/10)) + '\\n')\n",
    "    metrics.write('F1 Weighted ' +str(sum(((cl[4][2]- average[4][2])**2)/10) )+ '\\n')\n",
    "    metrics.write('\\nTop MLP\\n')\n",
    "    metrics.write('Accuracy ' +str(sum(((cl[5][0] - average[5][0])**2)/10)) + '\\n')\n",
    "    metrics.write('F1 Macro ' +str(sum(((cl[5][1] - average[5][1])**2)/10)) + '\\n')\n",
    "    metrics.write('F1 Weighted ' +str(sum(((cl[5][2] - average[5][2])**2)/10)) + '\\n')"
   ]
  },
  {
   "cell_type": "code",
   "execution_count": null,
   "metadata": {},
   "outputs": [],
   "source": []
  }
 ],
 "metadata": {
  "kernelspec": {
   "display_name": "Python 3",
   "language": "python",
   "name": "python3"
  },
  "language_info": {
   "codemirror_mode": {
    "name": "ipython",
    "version": 3
   },
   "file_extension": ".py",
   "mimetype": "text/x-python",
   "name": "python",
   "nbconvert_exporter": "python",
   "pygments_lexer": "ipython3",
   "version": "3.8.5"
  }
 },
 "nbformat": 4,
 "nbformat_minor": 4
}
