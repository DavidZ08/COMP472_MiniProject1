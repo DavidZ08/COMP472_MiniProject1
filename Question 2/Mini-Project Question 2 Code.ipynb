{
 "cells": [
  {
   "cell_type": "code",
   "execution_count": 1,
   "metadata": {},
   "outputs": [],
   "source": [
    "import pandas as pd\n",
    "import numpy as np\n",
    "import matplotlib.pyplot as plt\n",
    "import sklearn.model_selection as sk\n",
    "from sklearn.naive_bayes import GaussianNB as gnb\n",
    "from sklearn.tree import DecisionTreeClassifier as dtc\n",
    "from sklearn.metrics import f1_score\n",
    "from sklearn.linear_model import Perceptron as pc\n",
    "from sklearn.neural_network import MLPClassifier as mlp\n",
    "\n",
    "\n",
    "from sklearn.metrics import accuracy_score, recall_score, precision_score, f1_score, confusion_matrix, ConfusionMatrixDisplay"
   ]
  },
  {
   "cell_type": "markdown",
   "metadata": {},
   "source": [
    "# Data "
   ]
  },
  {
   "cell_type": "code",
   "execution_count": 2,
   "metadata": {},
   "outputs": [
    {
     "data": {
      "text/html": [
       "<div>\n",
       "<style scoped>\n",
       "    .dataframe tbody tr th:only-of-type {\n",
       "        vertical-align: middle;\n",
       "    }\n",
       "\n",
       "    .dataframe tbody tr th {\n",
       "        vertical-align: top;\n",
       "    }\n",
       "\n",
       "    .dataframe thead th {\n",
       "        text-align: right;\n",
       "    }\n",
       "</style>\n",
       "<table border=\"1\" class=\"dataframe\">\n",
       "  <thead>\n",
       "    <tr style=\"text-align: right;\">\n",
       "      <th></th>\n",
       "      <th>Age</th>\n",
       "      <th>Sex</th>\n",
       "      <th>BP</th>\n",
       "      <th>Cholesterol</th>\n",
       "      <th>Na_to_K</th>\n",
       "      <th>Drug</th>\n",
       "    </tr>\n",
       "  </thead>\n",
       "  <tbody>\n",
       "    <tr>\n",
       "      <th>0</th>\n",
       "      <td>23</td>\n",
       "      <td>F</td>\n",
       "      <td>HIGH</td>\n",
       "      <td>HIGH</td>\n",
       "      <td>25.355</td>\n",
       "      <td>drugY</td>\n",
       "    </tr>\n",
       "    <tr>\n",
       "      <th>1</th>\n",
       "      <td>47</td>\n",
       "      <td>M</td>\n",
       "      <td>LOW</td>\n",
       "      <td>HIGH</td>\n",
       "      <td>13.093</td>\n",
       "      <td>drugC</td>\n",
       "    </tr>\n",
       "    <tr>\n",
       "      <th>2</th>\n",
       "      <td>47</td>\n",
       "      <td>M</td>\n",
       "      <td>LOW</td>\n",
       "      <td>HIGH</td>\n",
       "      <td>10.114</td>\n",
       "      <td>drugC</td>\n",
       "    </tr>\n",
       "    <tr>\n",
       "      <th>3</th>\n",
       "      <td>28</td>\n",
       "      <td>F</td>\n",
       "      <td>NORMAL</td>\n",
       "      <td>HIGH</td>\n",
       "      <td>7.798</td>\n",
       "      <td>drugX</td>\n",
       "    </tr>\n",
       "    <tr>\n",
       "      <th>4</th>\n",
       "      <td>61</td>\n",
       "      <td>F</td>\n",
       "      <td>LOW</td>\n",
       "      <td>HIGH</td>\n",
       "      <td>18.043</td>\n",
       "      <td>drugY</td>\n",
       "    </tr>\n",
       "    <tr>\n",
       "      <th>...</th>\n",
       "      <td>...</td>\n",
       "      <td>...</td>\n",
       "      <td>...</td>\n",
       "      <td>...</td>\n",
       "      <td>...</td>\n",
       "      <td>...</td>\n",
       "    </tr>\n",
       "    <tr>\n",
       "      <th>195</th>\n",
       "      <td>56</td>\n",
       "      <td>F</td>\n",
       "      <td>LOW</td>\n",
       "      <td>HIGH</td>\n",
       "      <td>11.567</td>\n",
       "      <td>drugC</td>\n",
       "    </tr>\n",
       "    <tr>\n",
       "      <th>196</th>\n",
       "      <td>16</td>\n",
       "      <td>M</td>\n",
       "      <td>LOW</td>\n",
       "      <td>HIGH</td>\n",
       "      <td>12.006</td>\n",
       "      <td>drugC</td>\n",
       "    </tr>\n",
       "    <tr>\n",
       "      <th>197</th>\n",
       "      <td>52</td>\n",
       "      <td>M</td>\n",
       "      <td>NORMAL</td>\n",
       "      <td>HIGH</td>\n",
       "      <td>9.894</td>\n",
       "      <td>drugX</td>\n",
       "    </tr>\n",
       "    <tr>\n",
       "      <th>198</th>\n",
       "      <td>23</td>\n",
       "      <td>M</td>\n",
       "      <td>NORMAL</td>\n",
       "      <td>NORMAL</td>\n",
       "      <td>14.020</td>\n",
       "      <td>drugX</td>\n",
       "    </tr>\n",
       "    <tr>\n",
       "      <th>199</th>\n",
       "      <td>40</td>\n",
       "      <td>F</td>\n",
       "      <td>LOW</td>\n",
       "      <td>NORMAL</td>\n",
       "      <td>11.349</td>\n",
       "      <td>drugX</td>\n",
       "    </tr>\n",
       "  </tbody>\n",
       "</table>\n",
       "<p>200 rows × 6 columns</p>\n",
       "</div>"
      ],
      "text/plain": [
       "     Age Sex      BP Cholesterol  Na_to_K   Drug\n",
       "0     23   F    HIGH        HIGH   25.355  drugY\n",
       "1     47   M     LOW        HIGH   13.093  drugC\n",
       "2     47   M     LOW        HIGH   10.114  drugC\n",
       "3     28   F  NORMAL        HIGH    7.798  drugX\n",
       "4     61   F     LOW        HIGH   18.043  drugY\n",
       "..   ...  ..     ...         ...      ...    ...\n",
       "195   56   F     LOW        HIGH   11.567  drugC\n",
       "196   16   M     LOW        HIGH   12.006  drugC\n",
       "197   52   M  NORMAL        HIGH    9.894  drugX\n",
       "198   23   M  NORMAL      NORMAL   14.020  drugX\n",
       "199   40   F     LOW      NORMAL   11.349  drugX\n",
       "\n",
       "[200 rows x 6 columns]"
      ]
     },
     "execution_count": 2,
     "metadata": {},
     "output_type": "execute_result"
    }
   ],
   "source": [
    "drug_data = pd.read_csv('drug200.csv')\n",
    "\n",
    "drug_data"
   ]
  },
  {
   "cell_type": "code",
   "execution_count": 3,
   "metadata": {
    "scrolled": true
   },
   "outputs": [
    {
     "data": {
      "image/png": "[encoded data removed]",
      "text/plain": [
       "<Figure size 432x288 with 1 Axes>"
      ]
     },
     "metadata": {
      "needs_background": "light"
     },
     "output_type": "display_data"
    }
   ],
   "source": [
    "# Need to add axis labels and title\n",
    "\n",
    "x = plt.hist(drug_data.Drug)\n",
    "plt.savefig('Drug_Distribution_Data.pdf')"
   ]
  },
  {
   "cell_type": "code",
   "execution_count": 4,
   "metadata": {},
   "outputs": [],
   "source": [
    "N_to_K = drug_data.Na_to_K\n",
    "Age = drug_data.Age\n",
    "Sex_nf = pd.get_dummies(drug_data.Sex)\n",
    "BP_nf = pd.Categorical(drug_data.BP, ordered = True, categories = ['LOW', 'NORMAL', 'HIGH'])\n",
    "Chol_nf = pd.Categorical(drug_data.Cholesterol, ordered = True, categories = ['NORMAL', 'HIGH'])\n",
    "BP_nf = pd.DataFrame({'BP': BP_nf.codes})\n",
    "Chol_nf = pd.DataFrame({'Cholesterol' :Chol_nf.codes})"
   ]
  },
  {
   "cell_type": "code",
   "execution_count": 5,
   "metadata": {},
   "outputs": [],
   "source": [
    "drug_features = [Age, Sex_nf, BP_nf, Chol_nf, N_to_K]\n",
    "drug_features = pd.concat(drug_features, axis=1, join = 'inner')\n",
    "drug_target = drug_data.Drug\n"
   ]
  },
  {
   "cell_type": "code",
   "execution_count": 6,
   "metadata": {},
   "outputs": [],
   "source": [
    "x_train, x_test, y_train, y_test = sk.train_test_split(drug_features, drug_target)\n",
    "y_train = y_train.to_numpy()\n",
    "y_test = y_test.to_numpy()"
   ]
  },
  {
   "cell_type": "markdown",
   "metadata": {},
   "source": [
    "# Metrics"
   ]
  },
  {
   "cell_type": "code",
   "execution_count": 7,
   "metadata": {},
   "outputs": [],
   "source": [
    "def getMetrics(drug_classes, index, pred, targets):\n",
    "    class_recall = recall_score(targets, pred, average= None)\n",
    "    class_precision = precision_score(targets, pred, average= None, zero_division = 0)\n",
    "    class_f1 = f1_score(targets, pred, average= None)\n",
    "    model_accuracy = accuracy_score(targets, pred)\n",
    "    model_f1_macro = f1_score(targets, pred, average= 'macro')\n",
    "    model_f1_weighted = f1_score(targets, pred, average= 'weighted')\n",
    "\n",
    "    class_recall_labelled = {}\n",
    "    class_precision_labelled = {}\n",
    "    class_f1_labelled = {}\n",
    "    \n",
    "    for i in range(len(drug_classes)):\n",
    "        class_recall_labelled[drug_classes[i]] = class_recall[i]\n",
    "        class_precision_labelled[drug_classes[i]] = class_precision[i]\n",
    "        class_f1_labelled[drug_classes[i]] = class_f1[i]\n",
    "    \n",
    "    metrics = {'Accuracy': model_accuracy, 'F1 Macro': model_f1_macro, 'F1 Weighted' : model_f1_weighted, \\\n",
    "               'Class Recall': class_recall_labelled, 'Class Precision' : class_precision_labelled, 'Class F1': class_f1_labelled}\n",
    "    \n",
    "    return metrics\n",
    "    "
   ]
  },
  {
   "cell_type": "code",
   "execution_count": 8,
   "metadata": {},
   "outputs": [],
   "source": [
    "def print_model_file(model, file):\n",
    "    with open(file, 'a') as metrics_file:\n",
    "        metrics_file.write('\\n(A)\\n\\n')\n",
    "        if type(model) != 'GridSearchCV':\n",
    "            metrics_file.write(\"********************************************************************************\\n\" +\n",
    "            type(model).__name__ + '\\n'\n",
    "            'Parameters: '+ ' ' + str(model._get_param_names()) + '\\n'+\n",
    "            \"********************************************************************************\\n\")\n",
    "\n",
    "        else:\n",
    "            metrics_file.write(\"********************************************************************************\\n\" +\n",
    "            model.get_params()['estimator'] + ' ' +type(model).___name__ + '\\n'   +              \n",
    "            'Parameters: '+ ' ' + str(model.best_params_) + '\\n'+\n",
    "            \"********************************************************************************\\n\")\n",
    "            \n",
    "        \n",
    "def print_metrics_file(metrics, file):\n",
    "    with open(file, 'a') as metrics_file:\n",
    "        metrics_file.write('\\n\\n(C)')\n",
    "        \n",
    "        for key, value in metrics.items():            \n",
    "            if type(metrics[key]) == dict:\n",
    "                metrics_file.write('\\n\\n' +key)\n",
    "                for key2, value2 in metrics[key].items():\n",
    "                    metrics_file.write('\\n   ' +str(key2) + ' ' + str(value2))\n",
    "        \n",
    "        metrics_file.write('\\n\\n(D)')\n",
    "        for key, value in metrics.items():\n",
    "                if type(metrics[key]) != dict :\n",
    "                    metrics_file.write('\\n\\n' +str(key) + ' ' + str(value))\n",
    "        metrics_file.write('\\n\\n')\n",
    "    \n",
    "    \n",
    "def print_matrix_file(model, pred, targets, file):\n",
    "    drug_classes = model.classes_\n",
    "    cm = confusion_matrix(targets, pred, labels = drug_classes)\n",
    "    drug_classes = [x[-1] for x in drug_classes]\n",
    "    \n",
    "    with open(file, 'a') as metrics_file:\n",
    "        elements = '{:<3} {:<3} {:<3} {:<3} {:<3}'\n",
    "        metrics_file.write('\\n(B)\\n\\n')\n",
    "        for i in range(len(drug_classes)):\n",
    "            elements = elements.format(cm[i, 0], cm[i, 1], cm[i, 2], cm[i, 3], cm[i, 4])\n",
    "            print(elements)\n",
    "            metrics_file.write(drug_classes[i] + '  ' + elements+ '\\n')\n",
    "            elements ='{:<3} {:<3} {:<3} {:<3} {:<3}'\n",
    "        metrics_file.write('   '+'   '.join(drug_classes))\n",
    "\n"
   ]
  },
  {
   "cell_type": "markdown",
   "metadata": {},
   "source": [
    "# Guassian Naive-Bayes"
   ]
  },
  {
   "cell_type": "code",
   "execution_count": 9,
   "metadata": {},
   "outputs": [],
   "source": [
    "cl_gnb = gnb().fit(x_train, y_train)"
   ]
  },
  {
   "cell_type": "code",
   "execution_count": 10,
   "metadata": {},
   "outputs": [
    {
     "data": {
      "text/plain": [
       "numpy.ndarray"
      ]
     },
     "execution_count": 10,
     "metadata": {},
     "output_type": "execute_result"
    }
   ],
   "source": [
    "type(cl_gnb.classes_)"
   ]
  },
  {
   "cell_type": "code",
   "execution_count": 11,
   "metadata": {},
   "outputs": [
    {
     "name": "stdout",
     "output_type": "stream",
     "text": [
      "18  0   0   0   0  \n",
      "0   14  0   0   0  \n",
      "0   0   11  0   0  \n",
      "0   0   0   37  1  \n",
      "5   4   9   0   51 \n"
     ]
    }
   ],
   "source": [
    "predictions_cl_gnb = cl_gnb.predict(x_train).reshape(150, 1)\n",
    "index = x_train.index.values.reshape(150, 1)\n",
    "targets_cl_gnb = y_train.reshape(150, 1)\n",
    "\n",
    "\n",
    "drug_classes=cl_gnb.classes_\n",
    "m = getMetrics(drug_classes, index, predictions_cl_gnb, targets_cl_gnb)\n",
    "print_model_file(cl_gnb, 'test.txt')\n",
    "print_matrix_file(cl_gnb, predictions_cl_gnb, targets_cl_gnb, 'test.txt')\n",
    "print_metrics_file(m, 'test.txt')"
   ]
  },
  {
   "cell_type": "markdown",
   "metadata": {},
   "source": [
    "# Decision Tree"
   ]
  },
  {
   "cell_type": "code",
   "execution_count": 12,
   "metadata": {},
   "outputs": [],
   "source": [
    "cl_dtc = dtc().fit(x_train, y_train)"
   ]
  },
  {
   "cell_type": "code",
   "execution_count": 29,
   "metadata": {},
   "outputs": [
    {
     "name": "stdout",
     "output_type": "stream",
     "text": [
      "Class Recall : \n",
      " {'drugA': 1.0, 'drugB': 1.0, 'drugC': 1.0, 'drugX': 0.9375, 'drugY': 1.0}\n",
      "Class Precision : \n",
      " {'drugA': 1.0, 'drugB': 1.0, 'drugC': 1.0, 'drugX': 1.0, 'drugY': 0.9565217391304348}\n",
      "Class F1 : \n",
      " {'drugA': 1.0, 'drugB': 1.0, 'drugC': 1.0, 'drugX': 0.967741935483871, 'drugY': 0.9777777777777777}\n",
      "Model Accuracy :  0.98\n",
      "Model F1 Macro :  0.9891039426523298\n",
      "Model F1 Weighted :  0.9798996415770609\n",
      "5   0   0   0   0  \n",
      "0   2   0   0   0  \n",
      "0   0   5   0   0  \n",
      "0   0   0   15  1  \n",
      "0   0   0   0   22 \n"
     ]
    }
   ],
   "source": [
    "predictions_cl_dtc = cl_dtc.predict(x_test).reshape(50, 1)\n",
    "index = x_test.index.values.reshape(50, 1)\n",
    "targets_cl_dtc = y_test.reshape(50, 1)\n",
    "\n",
    "drug_classes=cl_dtc.classes_\n",
    "m = getMetrics(drug_classes, index, predictions_cl_dtc, targets_cl_dtc)\n",
    "print_model_file(cl_dtc, 'test.txt')\n",
    "print_matrix_file(cl_dtc, predictions_cl_dtc, targets_cl_dtc, 'test.txt')\n",
    "print_metrics_file(m, 'test.txt')"
   ]
  },
  {
   "cell_type": "markdown",
   "metadata": {},
   "source": [
    "# Top- DT"
   ]
  },
  {
   "cell_type": "code",
   "execution_count": 15,
   "metadata": {},
   "outputs": [],
   "source": [
    "cl_topdtc = dtc()\n",
    "cl_topdtc.get_params()\n",
    "params = {'criterion': ['entropy', 'gini'], 'max_depth' : [1, 2, 3, 4, 5, 3, 7 ], 'min_samples_split': [2, 3, 4]}\n",
    "sc = sk.GridSearchCV(cl_topdtc, params, scoring='f1_weighted')"
   ]
  },
  {
   "cell_type": "code",
   "execution_count": 16,
   "metadata": {},
   "outputs": [
    {
     "data": {
      "text/plain": [
       "GridSearchCV(estimator=DecisionTreeClassifier(),\n",
       "             param_grid={'criterion': ['entropy', 'gini'],\n",
       "                         'max_depth': [1, 2, 3, 4, 5, 3, 7],\n",
       "                         'min_samples_split': [2, 3, 4]},\n",
       "             scoring='f1_weighted')"
      ]
     },
     "execution_count": 16,
     "metadata": {},
     "output_type": "execute_result"
    }
   ],
   "source": [
    "sc.fit(x_train, y_train)"
   ]
  },
  {
   "cell_type": "code",
   "execution_count": 17,
   "metadata": {},
   "outputs": [
    {
     "data": {
      "text/plain": [
       "{'criterion': 'entropy', 'max_depth': 4, 'min_samples_split': 2}"
      ]
     },
     "execution_count": 17,
     "metadata": {},
     "output_type": "execute_result"
    }
   ],
   "source": [
    "sc.best_params_"
   ]
  },
  {
   "cell_type": "code",
   "execution_count": 18,
   "metadata": {},
   "outputs": [
    {
     "name": "stdout",
     "output_type": "stream",
     "text": [
      "Class Recall : \n",
      " {'drugA': 1.0, 'drugB': 1.0, 'drugC': 1.0, 'drugX': 0.9375, 'drugY': 1.0}\n",
      "Class Precision : \n",
      " {'drugA': 1.0, 'drugB': 1.0, 'drugC': 1.0, 'drugX': 1.0, 'drugY': 0.9565217391304348}\n",
      "Class F1 : \n",
      " {'drugA': 1.0, 'drugB': 1.0, 'drugC': 1.0, 'drugX': 0.967741935483871, 'drugY': 0.9777777777777777}\n",
      "Model Accuracy :  0.98\n",
      "Model F1 Macro :  0.9891039426523298\n",
      "Model F1 Weighted :  0.9798996415770609\n",
      "5   0   0   0   0  \n",
      "0   2   0   0   0  \n",
      "0   0   5   0   0  \n",
      "0   0   0   15  1  \n",
      "0   0   0   0   22 \n"
     ]
    }
   ],
   "source": [
    "predictions_cl_topdtc = sc.predict(x_test).reshape(50, 1)\n",
    "index = x_test.index.values.reshape(50, 1)\n",
    "targets_cl_topdtc = y_test.reshape(50, 1)\n",
    "\n",
    "drug_classes=sc.classes_\n",
    "m = getMetrics(drug_classes, index, predictions_cl_topdtc, targets_cl_topdtc)\n",
    "print_model_file(sc, 'test.txt')\n",
    "print_matrix_file(sc, predictions_cl_topdtc, targets_cl_topdtc, 'test.txt')\n",
    "print_metrics_file(m, 'test.txt')"
   ]
  },
  {
   "cell_type": "markdown",
   "metadata": {},
   "source": [
    "# Perceptron"
   ]
  },
  {
   "cell_type": "code",
   "execution_count": 19,
   "metadata": {},
   "outputs": [],
   "source": [
    "cl_pc = pc()\n",
    "\n",
    "pc_x_train = x_train.to_numpy()\n",
    "pc_x_test = x_test.to_numpy()"
   ]
  },
  {
   "cell_type": "code",
   "execution_count": 20,
   "metadata": {},
   "outputs": [
    {
     "data": {
      "text/plain": [
       "Perceptron()"
      ]
     },
     "execution_count": 20,
     "metadata": {},
     "output_type": "execute_result"
    }
   ],
   "source": [
    "cl_pc.fit(pc_x_train, y_train)"
   ]
  },
  {
   "cell_type": "code",
   "execution_count": 21,
   "metadata": {},
   "outputs": [
    {
     "name": "stdout",
     "output_type": "stream",
     "text": [
      "Class Recall : \n",
      " {'drugA': 0.0, 'drugB': 0.0, 'drugC': 0.0, 'drugX': 0.0, 'drugY': 1.0}\n",
      "Class Precision : \n",
      " {'drugA': 0.0, 'drugB': 0.0, 'drugC': 0.0, 'drugX': 0.0, 'drugY': 0.44}\n",
      "Class F1 : \n",
      " {'drugA': 0.0, 'drugB': 0.0, 'drugC': 0.0, 'drugX': 0.0, 'drugY': 0.6111111111111112}\n",
      "Model Accuracy :  0.44\n",
      "Model F1 Macro :  0.12222222222222223\n",
      "Model F1 Weighted :  0.26888888888888896\n",
      "0   0   0   0   5  \n",
      "0   0   0   0   2  \n",
      "0   0   0   0   5  \n",
      "0   0   0   0   16 \n",
      "0   0   0   0   22 \n"
     ]
    }
   ],
   "source": [
    "predictions_cl_pc = cl_pc.predict(pc_x_test).reshape(50, 1)\n",
    "index = x_test.index.values.reshape(50,1)\n",
    "targets_cl_pc = y_test.reshape(50, 1)\n",
    "\n",
    "drug_classes=cl_pc.classes_\n",
    "m = getMetrics(drug_classes, index, predictions_cl_pc, targets_cl_pc)\n",
    "print_model_file(cl_pc, 'test.txt')\n",
    "print_matrix_file(cl_dtc, predictions_cl_pc, targets_cl_pc, 'test.txt')\n",
    "print_metrics_file(m, 'test.txt')"
   ]
  },
  {
   "cell_type": "markdown",
   "metadata": {},
   "source": [
    "# MLP"
   ]
  },
  {
   "cell_type": "code",
   "execution_count": 22,
   "metadata": {},
   "outputs": [],
   "source": [
    "cl_mlp = mlp(hidden_layer_sizes = (1, 100), activation = 'logistic', solver = 'sgd')"
   ]
  },
  {
   "cell_type": "code",
   "execution_count": 23,
   "metadata": {},
   "outputs": [
    {
     "data": {
      "text/plain": [
       "MLPClassifier(activation='logistic', hidden_layer_sizes=(1, 100), solver='sgd')"
      ]
     },
     "execution_count": 23,
     "metadata": {},
     "output_type": "execute_result"
    }
   ],
   "source": [
    "cl_mlp.fit(x_train, y_train)"
   ]
  },
  {
   "cell_type": "code",
   "execution_count": 24,
   "metadata": {},
   "outputs": [
    {
     "name": "stdout",
     "output_type": "stream",
     "text": [
      "Class Recall : \n",
      " {'drugA': 0.0, 'drugB': 0.0, 'drugC': 0.0, 'drugX': 0.0, 'drugY': 1.0}\n",
      "Class Precision : \n",
      " {'drugA': 0.0, 'drugB': 0.0, 'drugC': 0.0, 'drugX': 0.0, 'drugY': 0.44}\n",
      "Class F1 : \n",
      " {'drugA': 0.0, 'drugB': 0.0, 'drugC': 0.0, 'drugX': 0.0, 'drugY': 0.6111111111111112}\n",
      "Model Accuracy :  0.44\n",
      "Model F1 Macro :  0.12222222222222223\n",
      "Model F1 Weighted :  0.26888888888888896\n",
      "0   0   0   0   5  \n",
      "0   0   0   0   2  \n",
      "0   0   0   0   5  \n",
      "0   0   0   0   16 \n",
      "0   0   0   0   22 \n"
     ]
    }
   ],
   "source": [
    "predictions_cl_mlp = cl_mlp.predict(x_test).reshape(50, 1)\n",
    "index = x_test.index.values.reshape(50,1)\n",
    "targets_cl_mlp = y_test.reshape(50, 1)\n",
    "\n",
    "drug_classes=cl_mlp.classes_\n",
    "m = getMetrics(drug_classes, index, predictions_cl_mlp, targets_cl_mlp)\n",
    "print_model_file(cl_mlp, 'test.txt')\n",
    "print_matrix_file(cl_mlp, predictions_cl_mlp, targets_cl_mlp, 'test.txt')\n",
    "print_metrics_file(m, 'test.txt')"
   ]
  },
  {
   "cell_type": "markdown",
   "metadata": {},
   "source": [
    "# Top MLP"
   ]
  },
  {
   "cell_type": "code",
   "execution_count": 25,
   "metadata": {},
   "outputs": [
    {
     "data": {
      "text/plain": [
       "{'activation': 'relu',\n",
       " 'alpha': 0.0001,\n",
       " 'batch_size': 'auto',\n",
       " 'beta_1': 0.9,\n",
       " 'beta_2': 0.999,\n",
       " 'early_stopping': False,\n",
       " 'epsilon': 1e-08,\n",
       " 'hidden_layer_sizes': (100,),\n",
       " 'learning_rate': 'constant',\n",
       " 'learning_rate_init': 0.001,\n",
       " 'max_fun': 15000,\n",
       " 'max_iter': 200,\n",
       " 'momentum': 0.9,\n",
       " 'n_iter_no_change': 10,\n",
       " 'nesterovs_momentum': True,\n",
       " 'power_t': 0.5,\n",
       " 'random_state': None,\n",
       " 'shuffle': True,\n",
       " 'solver': 'adam',\n",
       " 'tol': 0.0001,\n",
       " 'validation_fraction': 0.1,\n",
       " 'verbose': False,\n",
       " 'warm_start': False}"
      ]
     },
     "execution_count": 25,
     "metadata": {},
     "output_type": "execute_result"
    }
   ],
   "source": [
    "cl_topmlp = mlp()"
   ]
  },
  {
   "cell_type": "code",
   "execution_count": 26,
   "metadata": {},
   "outputs": [
    {
     "name": "stderr",
     "output_type": "stream",
     "text": [
      "C:\\Users\\bdelp\\anaconda3\\lib\\site-packages\\sklearn\\neural_network\\_multilayer_perceptron.py:582: ConvergenceWarning: Stochastic Optimizer: Maximum iterations (200) reached and the optimization hasn't converged yet.\n",
      "  warnings.warn(\n",
      "C:\\Users\\bdelp\\anaconda3\\lib\\site-packages\\sklearn\\neural_network\\_multilayer_perceptron.py:582: ConvergenceWarning: Stochastic Optimizer: Maximum iterations (200) reached and the optimization hasn't converged yet.\n",
      "  warnings.warn(\n",
      "C:\\Users\\bdelp\\anaconda3\\lib\\site-packages\\sklearn\\neural_network\\_multilayer_perceptron.py:582: ConvergenceWarning: Stochastic Optimizer: Maximum iterations (200) reached and the optimization hasn't converged yet.\n",
      "  warnings.warn(\n",
      "C:\\Users\\bdelp\\anaconda3\\lib\\site-packages\\sklearn\\neural_network\\_multilayer_perceptron.py:582: ConvergenceWarning: Stochastic Optimizer: Maximum iterations (200) reached and the optimization hasn't converged yet.\n",
      "  warnings.warn(\n",
      "C:\\Users\\bdelp\\anaconda3\\lib\\site-packages\\sklearn\\neural_network\\_multilayer_perceptron.py:582: ConvergenceWarning: Stochastic Optimizer: Maximum iterations (200) reached and the optimization hasn't converged yet.\n",
      "  warnings.warn(\n",
      "C:\\Users\\bdelp\\anaconda3\\lib\\site-packages\\sklearn\\neural_network\\_multilayer_perceptron.py:582: ConvergenceWarning: Stochastic Optimizer: Maximum iterations (200) reached and the optimization hasn't converged yet.\n",
      "  warnings.warn(\n",
      "C:\\Users\\bdelp\\anaconda3\\lib\\site-packages\\sklearn\\neural_network\\_multilayer_perceptron.py:582: ConvergenceWarning: Stochastic Optimizer: Maximum iterations (200) reached and the optimization hasn't converged yet.\n",
      "  warnings.warn(\n",
      "C:\\Users\\bdelp\\anaconda3\\lib\\site-packages\\sklearn\\neural_network\\_multilayer_perceptron.py:582: ConvergenceWarning: Stochastic Optimizer: Maximum iterations (200) reached and the optimization hasn't converged yet.\n",
      "  warnings.warn(\n",
      "C:\\Users\\bdelp\\anaconda3\\lib\\site-packages\\sklearn\\neural_network\\_multilayer_perceptron.py:582: ConvergenceWarning: Stochastic Optimizer: Maximum iterations (200) reached and the optimization hasn't converged yet.\n",
      "  warnings.warn(\n",
      "C:\\Users\\bdelp\\anaconda3\\lib\\site-packages\\sklearn\\neural_network\\_multilayer_perceptron.py:582: ConvergenceWarning: Stochastic Optimizer: Maximum iterations (200) reached and the optimization hasn't converged yet.\n",
      "  warnings.warn(\n",
      "C:\\Users\\bdelp\\anaconda3\\lib\\site-packages\\sklearn\\neural_network\\_multilayer_perceptron.py:582: ConvergenceWarning: Stochastic Optimizer: Maximum iterations (200) reached and the optimization hasn't converged yet.\n",
      "  warnings.warn(\n",
      "C:\\Users\\bdelp\\anaconda3\\lib\\site-packages\\sklearn\\neural_network\\_multilayer_perceptron.py:582: ConvergenceWarning: Stochastic Optimizer: Maximum iterations (200) reached and the optimization hasn't converged yet.\n",
      "  warnings.warn(\n",
      "C:\\Users\\bdelp\\anaconda3\\lib\\site-packages\\sklearn\\neural_network\\_multilayer_perceptron.py:582: ConvergenceWarning: Stochastic Optimizer: Maximum iterations (200) reached and the optimization hasn't converged yet.\n",
      "  warnings.warn(\n",
      "C:\\Users\\bdelp\\anaconda3\\lib\\site-packages\\sklearn\\neural_network\\_multilayer_perceptron.py:582: ConvergenceWarning: Stochastic Optimizer: Maximum iterations (200) reached and the optimization hasn't converged yet.\n",
      "  warnings.warn(\n",
      "C:\\Users\\bdelp\\anaconda3\\lib\\site-packages\\sklearn\\neural_network\\_multilayer_perceptron.py:582: ConvergenceWarning: Stochastic Optimizer: Maximum iterations (200) reached and the optimization hasn't converged yet.\n",
      "  warnings.warn(\n",
      "C:\\Users\\bdelp\\anaconda3\\lib\\site-packages\\sklearn\\neural_network\\_multilayer_perceptron.py:582: ConvergenceWarning: Stochastic Optimizer: Maximum iterations (200) reached and the optimization hasn't converged yet.\n",
      "  warnings.warn(\n",
      "C:\\Users\\bdelp\\anaconda3\\lib\\site-packages\\sklearn\\neural_network\\_multilayer_perceptron.py:582: ConvergenceWarning: Stochastic Optimizer: Maximum iterations (200) reached and the optimization hasn't converged yet.\n",
      "  warnings.warn(\n",
      "C:\\Users\\bdelp\\anaconda3\\lib\\site-packages\\sklearn\\neural_network\\_multilayer_perceptron.py:582: ConvergenceWarning: Stochastic Optimizer: Maximum iterations (200) reached and the optimization hasn't converged yet.\n",
      "  warnings.warn(\n",
      "C:\\Users\\bdelp\\anaconda3\\lib\\site-packages\\sklearn\\neural_network\\_multilayer_perceptron.py:582: ConvergenceWarning: Stochastic Optimizer: Maximum iterations (200) reached and the optimization hasn't converged yet.\n",
      "  warnings.warn(\n",
      "C:\\Users\\bdelp\\anaconda3\\lib\\site-packages\\sklearn\\neural_network\\_multilayer_perceptron.py:582: ConvergenceWarning: Stochastic Optimizer: Maximum iterations (200) reached and the optimization hasn't converged yet.\n",
      "  warnings.warn(\n",
      "C:\\Users\\bdelp\\anaconda3\\lib\\site-packages\\sklearn\\neural_network\\_multilayer_perceptron.py:582: ConvergenceWarning: Stochastic Optimizer: Maximum iterations (200) reached and the optimization hasn't converged yet.\n",
      "  warnings.warn(\n",
      "C:\\Users\\bdelp\\anaconda3\\lib\\site-packages\\sklearn\\neural_network\\_multilayer_perceptron.py:582: ConvergenceWarning: Stochastic Optimizer: Maximum iterations (200) reached and the optimization hasn't converged yet.\n",
      "  warnings.warn(\n",
      "C:\\Users\\bdelp\\anaconda3\\lib\\site-packages\\sklearn\\neural_network\\_multilayer_perceptron.py:582: ConvergenceWarning: Stochastic Optimizer: Maximum iterations (200) reached and the optimization hasn't converged yet.\n",
      "  warnings.warn(\n",
      "C:\\Users\\bdelp\\anaconda3\\lib\\site-packages\\sklearn\\neural_network\\_multilayer_perceptron.py:582: ConvergenceWarning: Stochastic Optimizer: Maximum iterations (200) reached and the optimization hasn't converged yet.\n",
      "  warnings.warn(\n",
      "C:\\Users\\bdelp\\anaconda3\\lib\\site-packages\\sklearn\\neural_network\\_multilayer_perceptron.py:582: ConvergenceWarning: Stochastic Optimizer: Maximum iterations (200) reached and the optimization hasn't converged yet.\n",
      "  warnings.warn(\n",
      "C:\\Users\\bdelp\\anaconda3\\lib\\site-packages\\sklearn\\neural_network\\_multilayer_perceptron.py:582: ConvergenceWarning: Stochastic Optimizer: Maximum iterations (200) reached and the optimization hasn't converged yet.\n",
      "  warnings.warn(\n",
      "C:\\Users\\bdelp\\anaconda3\\lib\\site-packages\\sklearn\\neural_network\\_multilayer_perceptron.py:582: ConvergenceWarning: Stochastic Optimizer: Maximum iterations (200) reached and the optimization hasn't converged yet.\n",
      "  warnings.warn(\n",
      "C:\\Users\\bdelp\\anaconda3\\lib\\site-packages\\sklearn\\neural_network\\_multilayer_perceptron.py:582: ConvergenceWarning: Stochastic Optimizer: Maximum iterations (200) reached and the optimization hasn't converged yet.\n",
      "  warnings.warn(\n",
      "C:\\Users\\bdelp\\anaconda3\\lib\\site-packages\\sklearn\\neural_network\\_multilayer_perceptron.py:582: ConvergenceWarning: Stochastic Optimizer: Maximum iterations (200) reached and the optimization hasn't converged yet.\n",
      "  warnings.warn(\n",
      "C:\\Users\\bdelp\\anaconda3\\lib\\site-packages\\sklearn\\neural_network\\_multilayer_perceptron.py:582: ConvergenceWarning: Stochastic Optimizer: Maximum iterations (200) reached and the optimization hasn't converged yet.\n",
      "  warnings.warn(\n",
      "C:\\Users\\bdelp\\anaconda3\\lib\\site-packages\\sklearn\\neural_network\\_multilayer_perceptron.py:582: ConvergenceWarning: Stochastic Optimizer: Maximum iterations (200) reached and the optimization hasn't converged yet.\n",
      "  warnings.warn(\n",
      "C:\\Users\\bdelp\\anaconda3\\lib\\site-packages\\sklearn\\neural_network\\_multilayer_perceptron.py:582: ConvergenceWarning: Stochastic Optimizer: Maximum iterations (200) reached and the optimization hasn't converged yet.\n",
      "  warnings.warn(\n",
      "C:\\Users\\bdelp\\anaconda3\\lib\\site-packages\\sklearn\\neural_network\\_multilayer_perceptron.py:582: ConvergenceWarning: Stochastic Optimizer: Maximum iterations (200) reached and the optimization hasn't converged yet.\n",
      "  warnings.warn(\n",
      "C:\\Users\\bdelp\\anaconda3\\lib\\site-packages\\sklearn\\neural_network\\_multilayer_perceptron.py:582: ConvergenceWarning: Stochastic Optimizer: Maximum iterations (200) reached and the optimization hasn't converged yet.\n",
      "  warnings.warn(\n",
      "C:\\Users\\bdelp\\anaconda3\\lib\\site-packages\\sklearn\\neural_network\\_multilayer_perceptron.py:582: ConvergenceWarning: Stochastic Optimizer: Maximum iterations (200) reached and the optimization hasn't converged yet.\n",
      "  warnings.warn(\n",
      "C:\\Users\\bdelp\\anaconda3\\lib\\site-packages\\sklearn\\neural_network\\_multilayer_perceptron.py:582: ConvergenceWarning: Stochastic Optimizer: Maximum iterations (200) reached and the optimization hasn't converged yet.\n",
      "  warnings.warn(\n"
     ]
    },
    {
     "name": "stderr",
     "output_type": "stream",
     "text": [
      "C:\\Users\\bdelp\\anaconda3\\lib\\site-packages\\sklearn\\neural_network\\_multilayer_perceptron.py:582: ConvergenceWarning: Stochastic Optimizer: Maximum iterations (200) reached and the optimization hasn't converged yet.\n",
      "  warnings.warn(\n",
      "C:\\Users\\bdelp\\anaconda3\\lib\\site-packages\\sklearn\\neural_network\\_multilayer_perceptron.py:582: ConvergenceWarning: Stochastic Optimizer: Maximum iterations (200) reached and the optimization hasn't converged yet.\n",
      "  warnings.warn(\n",
      "C:\\Users\\bdelp\\anaconda3\\lib\\site-packages\\sklearn\\neural_network\\_multilayer_perceptron.py:582: ConvergenceWarning: Stochastic Optimizer: Maximum iterations (200) reached and the optimization hasn't converged yet.\n",
      "  warnings.warn(\n"
     ]
    },
    {
     "data": {
      "text/plain": [
       "GridSearchCV(estimator=MLPClassifier(),\n",
       "             param_grid={'activation': ['logistic', 'tanh', 'relu', 'identity'],\n",
       "                         'hidden_layer_sizes': [(20, 50), (10, 10, 10)]})"
      ]
     },
     "execution_count": 26,
     "metadata": {},
     "output_type": "execute_result"
    }
   ],
   "source": [
    "params = {'activation': ['logistic', 'tanh', 'relu', 'identity'], 'hidden_layer_sizes': [(20, 50), (10, 10, 10)]}\n",
    "\n",
    "sc_mlp = sk.GridSearchCV(cl_topmlp, params)\n",
    "\n",
    "sc_mlp.fit(x_train, y_train)\n"
   ]
  },
  {
   "cell_type": "code",
   "execution_count": 27,
   "metadata": {},
   "outputs": [
    {
     "name": "stdout",
     "output_type": "stream",
     "text": [
      "Class Recall : \n",
      " {'drugA': 0.6, 'drugB': 1.0, 'drugC': 0.0, 'drugX': 0.625, 'drugY': 1.0}\n",
      "Class Precision : \n",
      " {'drugA': 0.5, 'drugB': 0.6666666666666666, 'drugC': 0.0, 'drugX': 0.7692307692307693, 'drugY': 0.7857142857142857}\n",
      "Class F1 : \n",
      " {'drugA': 0.5454545454545454, 'drugB': 0.8, 'drugC': 0.0, 'drugX': 0.6896551724137931, 'drugY': 0.88}\n",
      "Model Accuracy :  0.74\n",
      "Model F1 Macro :  0.5830219435736677\n",
      "Model F1 Weighted :  0.6944351097178684\n",
      "3   1   0   1   0  \n",
      "0   2   0   0   0  \n",
      "1   0   0   2   2  \n",
      "2   0   0   10  4  \n",
      "0   0   0   0   22 \n"
     ]
    }
   ],
   "source": [
    "predictions_cl_topmlp = sc_mlp.predict(x_test).reshape(50, 1)\n",
    "index = x_test.index.values.reshape(50, 1)\n",
    "targets_cl_topmlp = y_test.reshape(50, 1)\n",
    "\n",
    "drug_classes=sc_mlp.classes_\n",
    "m = getMetrics(drug_classes, index, predictions_cl_topmlp, targets_cl_topmlp)\n",
    "print_model_file(sc_mlp, 'test.txt')\n",
    "print_matrix_file(sc_mlp, predictions_cl_topmlp, targets_cl_topmlp, 'test.txt')\n",
    "print_metrics_file(m, 'test.txt')"
   ]
  },
  {
   "cell_type": "code",
   "execution_count": 28,
   "metadata": {},
   "outputs": [
    {
     "data": {
      "text/plain": [
       "dict"
      ]
     },
     "execution_count": 28,
     "metadata": {},
     "output_type": "execute_result"
    }
   ],
   "source": []
  },
  {
   "cell_type": "code",
   "execution_count": null,
   "metadata": {},
   "outputs": [],
   "source": []
  }
 ],
 "metadata": {
  "kernelspec": {
   "display_name": "Python 3",
   "language": "python",
   "name": "python3"
  },
  "language_info": {
   "codemirror_mode": {
    "name": "ipython",
    "version": 3
   },
   "file_extension": ".py",
   "mimetype": "text/x-python",
   "name": "python",
   "nbconvert_exporter": "python",
   "pygments_lexer": "ipython3",
   "version": "3.8.5"
  }
 },
 "nbformat": 4,
 "nbformat_minor": 4
}
